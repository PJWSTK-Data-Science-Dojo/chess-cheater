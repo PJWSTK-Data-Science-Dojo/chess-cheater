{
 "cells": [
  {
   "cell_type": "code",
   "execution_count": 1,
   "metadata": {},
   "outputs": [
    {
     "data": {
      "text/html": [
       "<div>\n",
       "<style scoped>\n",
       "    .dataframe tbody tr th:only-of-type {\n",
       "        vertical-align: middle;\n",
       "    }\n",
       "\n",
       "    .dataframe tbody tr th {\n",
       "        vertical-align: top;\n",
       "    }\n",
       "\n",
       "    .dataframe thead th {\n",
       "        text-align: right;\n",
       "    }\n",
       "</style>\n",
       "<table border=\"1\" class=\"dataframe\">\n",
       "  <thead>\n",
       "    <tr style=\"text-align: right;\">\n",
       "      <th></th>\n",
       "      <th>index</th>\n",
       "      <th>FEN</th>\n",
       "      <th>label</th>\n",
       "    </tr>\n",
       "  </thead>\n",
       "  <tbody>\n",
       "    <tr>\n",
       "      <th>0</th>\n",
       "      <td>0</td>\n",
       "      <td>rnbqkbnr/pppppppp/8/8/3P4/8/PPP1PPPP/RNBQKBNR ...</td>\n",
       "      <td>0</td>\n",
       "    </tr>\n",
       "    <tr>\n",
       "      <th>1</th>\n",
       "      <td>0</td>\n",
       "      <td>rnbqkbnr/ppp1pppp/8/3p4/3P4/8/PPP1PPPP/RNBQKBN...</td>\n",
       "      <td>0</td>\n",
       "    </tr>\n",
       "    <tr>\n",
       "      <th>2</th>\n",
       "      <td>0</td>\n",
       "      <td>rnbqkbnr/ppp1pppp/8/3p4/2PP4/8/PP2PPPP/RNBQKBN...</td>\n",
       "      <td>0</td>\n",
       "    </tr>\n",
       "    <tr>\n",
       "      <th>3</th>\n",
       "      <td>0</td>\n",
       "      <td>rnbqkbnr/pp2pppp/2p5/3p4/2PP4/8/PP2PPPP/RNBQKB...</td>\n",
       "      <td>0</td>\n",
       "    </tr>\n",
       "    <tr>\n",
       "      <th>4</th>\n",
       "      <td>0</td>\n",
       "      <td>rnbqkbnr/pp2pppp/2p5/3p4/2PP4/4P3/PP3PPP/RNBQK...</td>\n",
       "      <td>0</td>\n",
       "    </tr>\n",
       "    <tr>\n",
       "      <th>...</th>\n",
       "      <td>...</td>\n",
       "      <td>...</td>\n",
       "      <td>...</td>\n",
       "    </tr>\n",
       "    <tr>\n",
       "      <th>136300</th>\n",
       "      <td>1999</td>\n",
       "      <td>b5k1/5pb1/p7/2p3p1/2P3Q1/6P1/P1KP1PqP/1r6 w - ...</td>\n",
       "      <td>1</td>\n",
       "    </tr>\n",
       "    <tr>\n",
       "      <th>136301</th>\n",
       "      <td>1999</td>\n",
       "      <td>b5k1/5pb1/p7/2p3p1/2P3Q1/6P1/P2P1PqP/1K6 b - -...</td>\n",
       "      <td>1</td>\n",
       "    </tr>\n",
       "    <tr>\n",
       "      <th>136302</th>\n",
       "      <td>1999</td>\n",
       "      <td>b5k1/5pb1/p7/2p3p1/2P1q1Q1/6P1/P2P1P1P/1K6 w -...</td>\n",
       "      <td>1</td>\n",
       "    </tr>\n",
       "    <tr>\n",
       "      <th>136303</th>\n",
       "      <td>1999</td>\n",
       "      <td>b5k1/5pb1/p7/2p3p1/2P1q1Q1/3P2P1/P4P1P/1K6 b -...</td>\n",
       "      <td>1</td>\n",
       "    </tr>\n",
       "    <tr>\n",
       "      <th>136304</th>\n",
       "      <td>1999</td>\n",
       "      <td>b5k1/5pb1/p7/2p3p1/2P3Q1/3P2P1/P4P1P/1K2q3 w -...</td>\n",
       "      <td>1</td>\n",
       "    </tr>\n",
       "  </tbody>\n",
       "</table>\n",
       "<p>136305 rows × 3 columns</p>\n",
       "</div>"
      ],
      "text/plain": [
       "        index                                                FEN  label\n",
       "0           0  rnbqkbnr/pppppppp/8/8/3P4/8/PPP1PPPP/RNBQKBNR ...      0\n",
       "1           0  rnbqkbnr/ppp1pppp/8/3p4/3P4/8/PPP1PPPP/RNBQKBN...      0\n",
       "2           0  rnbqkbnr/ppp1pppp/8/3p4/2PP4/8/PP2PPPP/RNBQKBN...      0\n",
       "3           0  rnbqkbnr/pp2pppp/2p5/3p4/2PP4/8/PP2PPPP/RNBQKB...      0\n",
       "4           0  rnbqkbnr/pp2pppp/2p5/3p4/2PP4/4P3/PP3PPP/RNBQK...      0\n",
       "...       ...                                                ...    ...\n",
       "136300   1999  b5k1/5pb1/p7/2p3p1/2P3Q1/6P1/P1KP1PqP/1r6 w - ...      1\n",
       "136301   1999  b5k1/5pb1/p7/2p3p1/2P3Q1/6P1/P2P1PqP/1K6 b - -...      1\n",
       "136302   1999  b5k1/5pb1/p7/2p3p1/2P1q1Q1/6P1/P2P1P1P/1K6 w -...      1\n",
       "136303   1999  b5k1/5pb1/p7/2p3p1/2P1q1Q1/3P2P1/P4P1P/1K6 b -...      1\n",
       "136304   1999  b5k1/5pb1/p7/2p3p1/2P3Q1/3P2P1/P4P1P/1K2q3 w -...      1\n",
       "\n",
       "[136305 rows x 3 columns]"
      ]
     },
     "execution_count": 1,
     "metadata": {},
     "output_type": "execute_result"
    }
   ],
   "source": [
    "# READ IN DATA\n",
    "\n",
    "import pandas as pd\n",
    "\n",
    "df = pd.read_csv('dataset_lstm.csv')[['index', 'FEN', 'label']]\n",
    "\n",
    "# df = df[df['index'] < 1000]\n",
    "# df['index'] = df['index'] + df['label'] * 1000\n",
    "df"
   ]
  },
  {
   "cell_type": "code",
   "execution_count": 2,
   "metadata": {},
   "outputs": [
    {
     "data": {
      "text/plain": [
       "'rnbqkbnr/ppp1pppp/8/3p4/3P4/8/PPP1PPPP/RNBQKBNR w KQkq - 0 2'"
      ]
     },
     "execution_count": 2,
     "metadata": {},
     "output_type": "execute_result"
    }
   ],
   "source": [
    "df['FEN'][1]"
   ]
  },
  {
   "cell_type": "code",
   "execution_count": 3,
   "metadata": {},
   "outputs": [],
   "source": [
    "# ADD COLUMN \"NEXT_FEN\" WHICH REPRESENTS STATE OF THE BOARD IN STATE = T+1\n",
    "\n",
    "import numpy as np\n",
    "\n",
    "def next_fens(data):\n",
    "    next_FEN = []\n",
    "    for i, index in enumerate(data['index']):\n",
    "        if len(data['index']) == i+1:\n",
    "            next_FEN.append(np.nan)\n",
    "        elif index != data['index'][i+1]:\n",
    "            next_FEN.append(np.nan)\n",
    "        else:\n",
    "            next_FEN.append(data['FEN'][i+1])\n",
    "    return next_FEN\n",
    "\n",
    "df['next_FEN'] = next_fens(df)"
   ]
  },
  {
   "cell_type": "code",
   "execution_count": 4,
   "metadata": {},
   "outputs": [],
   "source": [
    "df.dropna(inplace=True)"
   ]
  },
  {
   "cell_type": "code",
   "execution_count": 5,
   "metadata": {},
   "outputs": [],
   "source": [
    "import torch\n",
    "from torch import nn\n",
    "\n",
    "from model_lstm import CheaterClassifier\n",
    "\n",
    "# device = torch.device('cuda')\n",
    "model = CheaterClassifier()\n",
    "# model.to(device)\n",
    "loss_fn = nn.BCELoss()\n",
    "optimizer = torch.optim.Adam(model.parameters(), lr=1e-5, weight_decay=1e-6)"
   ]
  },
  {
   "cell_type": "code",
   "execution_count": 6,
   "metadata": {},
   "outputs": [],
   "source": [
    "piece_to_token   = {'r' :        1,\n",
    "                   'n' :        2,\n",
    "                   'b' :        3,\n",
    "                   'q' :        4,\n",
    "                   'k' :        5,\n",
    "                   'p' :        6,\n",
    "                   'R' :        7,\n",
    "                   'N' :        8,\n",
    "                   'B' :        9,\n",
    "                   'Q' :        10,\n",
    "                   'K' :        11,\n",
    "                   'P' :        12,\n",
    "                   'empty' :    0}\n",
    "\n",
    "def fen_to_network_input_tokenized(fen):\n",
    "    encoded_board = []\n",
    "    fen = fen.split()[0]\n",
    "    for char in fen:\n",
    "        if char in piece_to_token.keys():\n",
    "            encoded_board.append(piece_to_token[char])\n",
    "        elif char != '/':\n",
    "            for _ in range(int(char)):\n",
    "                encoded_board.append(piece_to_token['empty'])\n",
    "    return encoded_board"
   ]
  },
  {
   "cell_type": "code",
   "execution_count": 7,
   "metadata": {},
   "outputs": [
    {
     "data": {
      "text/plain": [
       "128"
      ]
     },
     "execution_count": 7,
     "metadata": {},
     "output_type": "execute_result"
    }
   ],
   "source": [
    "df['FEN_tokenized'] = df['FEN'].apply(fen_to_network_input_tokenized)\n",
    "df['next_FEN_tokenized'] = df['next_FEN'].apply(fen_to_network_input_tokenized)\n",
    "df['input'] = df['FEN_tokenized'] + df['next_FEN_tokenized']\n",
    "len(df['input'][0])"
   ]
  },
  {
   "cell_type": "code",
   "execution_count": 8,
   "metadata": {},
   "outputs": [
    {
     "data": {
      "text/plain": [
       "68017     [1, 2, 3, 4, 5, 3, 2, 1, 6, 6, 6, 6, 6, 6, 6, ...\n",
       "68018     [1, 2, 3, 4, 5, 3, 2, 1, 6, 6, 6, 6, 6, 6, 6, ...\n",
       "68019     [1, 2, 3, 4, 5, 3, 2, 1, 6, 6, 0, 6, 6, 6, 6, ...\n",
       "68020     [1, 2, 3, 4, 5, 3, 2, 1, 6, 6, 0, 6, 6, 6, 6, ...\n",
       "68021     [1, 2, 3, 4, 5, 3, 2, 1, 6, 6, 0, 6, 0, 6, 6, ...\n",
       "                                ...                        \n",
       "136299    [3, 0, 0, 0, 0, 0, 5, 0, 0, 0, 0, 0, 0, 6, 3, ...\n",
       "136300    [3, 0, 0, 0, 0, 0, 5, 0, 0, 0, 0, 0, 0, 6, 3, ...\n",
       "136301    [3, 0, 0, 0, 0, 0, 5, 0, 0, 0, 0, 0, 0, 6, 3, ...\n",
       "136302    [3, 0, 0, 0, 0, 0, 5, 0, 0, 0, 0, 0, 0, 6, 3, ...\n",
       "136303    [3, 0, 0, 0, 0, 0, 5, 0, 0, 0, 0, 0, 0, 6, 3, ...\n",
       "Name: input, Length: 67288, dtype: object"
      ]
     },
     "execution_count": 8,
     "metadata": {},
     "output_type": "execute_result"
    }
   ],
   "source": [
    "df[df['label']==1]['input']"
   ]
  },
  {
   "cell_type": "code",
   "execution_count": 9,
   "metadata": {},
   "outputs": [],
   "source": [
    "shuffled_game_indexes = df['index'].drop_duplicates().sample(frac=1).values"
   ]
  },
  {
   "cell_type": "code",
   "execution_count": 10,
   "metadata": {},
   "outputs": [],
   "source": [
    "train_size = int(.99 * len(shuffled_game_indexes))"
   ]
  },
  {
   "cell_type": "code",
   "execution_count": 11,
   "metadata": {},
   "outputs": [],
   "source": [
    "# SELECT GAME INDEXES FOR TRAIN AND TEST DATA SETS\n",
    "\n",
    "train_indexes = shuffled_game_indexes[:train_size]\n",
    "test_indexes = shuffled_game_indexes[train_size:]"
   ]
  },
  {
   "cell_type": "code",
   "execution_count": 12,
   "metadata": {},
   "outputs": [
    {
     "name": "stderr",
     "output_type": "stream",
     "text": [
      "  0%|          | 0/1 [00:00<?, ?it/s]"
     ]
    },
    {
     "name": "stderr",
     "output_type": "stream",
     "text": [
      "100%|██████████| 1/1 [00:21<00:00, 21.55s/it]"
     ]
    },
    {
     "name": "stdout",
     "output_type": "stream",
     "text": [
      "EPOCH: 1; avg_loss 0.6850805878639221; avg_val_loss 0.6606855988502502; lowest val_loss in last 50 epochs: 10000000000\n",
      "###MODEL CHECKPOINT###\n"
     ]
    },
    {
     "name": "stderr",
     "output_type": "stream",
     "text": [
      "\n"
     ]
    }
   ],
   "source": [
    "# TRAIN MODEL\n",
    "\n",
    "from tqdm import tqdm\n",
    "from collections import deque\n",
    "import numpy as np\n",
    "\n",
    "EPOCHS = 1\n",
    "patience = 50\n",
    "loss_buffer = deque(maxlen=patience)\n",
    "loss_buffer.append(10000000000)\n",
    "patience_check = 0\n",
    "\n",
    "loss_list = []\n",
    "\n",
    "val_loss_list = []\n",
    "\n",
    "for epoch in tqdm(range(1,EPOCHS+1)):\n",
    "    model.train()\n",
    "    loss_sum = 0\n",
    "    for i, idx in enumerate(train_indexes):\n",
    "        inputs  = [input for input in df[df['index']==idx]['input'].values]\n",
    "        labels = df[df['index']==idx]['label'].values\n",
    "        inputs = torch.tensor(inputs,dtype=torch.int)\n",
    "        labels = torch.tensor(labels,dtype=torch.float32)\n",
    "        optimizer.zero_grad()\n",
    "\n",
    "        outputs = model(inputs)\n",
    "        labels = labels.unsqueeze(1)\n",
    "        loss = loss_fn(outputs, labels)\n",
    "        loss.backward()\n",
    "\n",
    "        optimizer.step()\n",
    "\n",
    "        loss_sum += loss\n",
    "    \n",
    "    loss_avg = loss_sum / (i + 1)\n",
    "\n",
    "    loss_list.append(loss_avg)\n",
    "\n",
    "    model.eval()\n",
    "    val_loss_sum = 0\n",
    "    for j, idx in enumerate(test_indexes):\n",
    "        val_inputs  = [input for input in df[df['index']==idx]['input'].values]\n",
    "        val_labels = df[df['index']==idx]['label'].values\n",
    "        val_inputs = torch.tensor(val_inputs,dtype=torch.int)\n",
    "        val_labels = torch.tensor(val_labels,dtype=torch.float32)\n",
    "        with torch.no_grad():\n",
    "            val_outputs = model(val_inputs)\n",
    "        val_labels = val_labels.unsqueeze(1)\n",
    "        val_loss = loss_fn(val_outputs, val_labels)\n",
    "        val_loss_sum += val_loss\n",
    "\n",
    "    val_loss_avg = val_loss_sum / (j + 1)\n",
    "\n",
    "    val_loss_list.append(val_loss_avg)\n",
    "\n",
    "\n",
    "    print(f'EPOCH: {epoch}; avg_loss {loss_avg}; avg_val_loss {val_loss_avg}; lowest val_loss in last {patience} epochs: {np.min(loss_buffer)}')\n",
    "\n",
    "    if val_loss_avg > np.min(loss_buffer) and patience_check > patience:\n",
    "        break\n",
    "    elif val_loss_avg < np.min(loss_buffer):\n",
    "        patience_check = 0\n",
    "        print('###MODEL CHECKPOINT###')\n",
    "        torch.save(model.state_dict(), 'checkpoint_full_games.pt')\n",
    "    else:\n",
    "        patience_check += 1\n",
    "\n",
    "    loss_buffer.append(val_loss_avg)\n"
   ]
  },
  {
   "cell_type": "code",
   "execution_count": 13,
   "metadata": {},
   "outputs": [
    {
     "name": "stdout",
     "output_type": "stream",
     "text": [
      "0\n",
      "1\n"
     ]
    }
   ],
   "source": [
    "\n",
    "print(df[df['label']==0]['label'].iloc[0])\n",
    "print(df[df['label']==1]['label'].iloc[0])"
   ]
  },
  {
   "cell_type": "code",
   "execution_count": 14,
   "metadata": {},
   "outputs": [
    {
     "data": {
      "text/plain": [
       "tensor([[0.5151]], grad_fn=<SigmoidBackward0>)"
      ]
     },
     "execution_count": 14,
     "metadata": {},
     "output_type": "execute_result"
    }
   ],
   "source": [
    "model.eval()\n",
    "model(torch.tensor(df[df['label']==1]['input'].iloc[6],dtype=torch.int).unsqueeze(0))"
   ]
  },
  {
   "cell_type": "code",
   "execution_count": 15,
   "metadata": {},
   "outputs": [
    {
     "data": {
      "text/plain": [
       "<All keys matched successfully>"
      ]
     },
     "execution_count": 15,
     "metadata": {},
     "output_type": "execute_result"
    }
   ],
   "source": [
    "# model.load_state_dict(torch.load('checkpoint_full_games.pt'))"
   ]
  },
  {
   "cell_type": "code",
   "execution_count": 16,
   "metadata": {},
   "outputs": [],
   "source": [
    "import numpy as np\n",
    "\n",
    "inputs = []\n",
    "predictions = []\n",
    "targets = []\n",
    "logits = []\n",
    "new_labels = []\n",
    "model.eval()\n",
    "\n",
    "\n",
    "for j, idx in enumerate(test_indexes):\n",
    "    val_inputs  = [input for input in df[df['index']==idx]['input'].values]\n",
    "    val_labels = df[df['index']==idx]['label'].values\n",
    "    val_inputs = torch.tensor(val_inputs,dtype=torch.int)\n",
    "    val_labels = torch.tensor(val_labels,dtype=torch.float32)\n",
    "# for i, val_data in enumerate(data_test):\n",
    "#     val_inputs, val_labels = val_data\n",
    "    inputs.append(val_inputs)\n",
    "    outputs = model(val_inputs)\n",
    "    outputs = outputs.detach().numpy()\n",
    "    targets.append(np.vstack(val_labels.numpy()))\n",
    "    predictions.append(outputs.round())\n",
    "    logits.append(outputs)\n",
    "    outputs = [1 if output >= .5 else 0 for output in outputs]\n",
    "    # outputs = [0 if output <= .3 else 2 for output in outputs]\n",
    "    new_labels.append(np.vstack(np.array(outputs)))\n",
    "    # predictions.append(np.vstack(np.array([0 if output <= .2 else 0.5 for output in [1 if output >= .8 else output for output in outputs]])))\n",
    "\n",
    "inputs = np.vstack(inputs)\n",
    "predictions = np.vstack(predictions)\n",
    "targets = np.vstack(targets)\n",
    "logits = np.vstack(logits)\n",
    "new_labels = np.vstack(new_labels)"
   ]
  },
  {
   "cell_type": "code",
   "execution_count": 17,
   "metadata": {},
   "outputs": [
    {
     "data": {
      "text/plain": [
       "1321"
      ]
     },
     "execution_count": 17,
     "metadata": {},
     "output_type": "execute_result"
    }
   ],
   "source": [
    "len(targets)"
   ]
  },
  {
   "cell_type": "code",
   "execution_count": 18,
   "metadata": {},
   "outputs": [
    {
     "name": "stdout",
     "output_type": "stream",
     "text": [
      "[[770 143]\n",
      " [ 54 354]]\n",
      "0.8508705526116578\n",
      "0.7823204419889503\n",
      "0.9139069647574255\n"
     ]
    }
   ],
   "source": [
    "from sklearn.metrics import confusion_matrix, accuracy_score, f1_score, roc_auc_score, roc_curve\n",
    "\n",
    "print(confusion_matrix(targets, predictions))\n",
    "print(accuracy_score(targets, predictions))\n",
    "print(f1_score(targets, predictions))\n",
    "print(roc_auc_score(targets,logits))\n",
    "fpr, tpr, thresholds = roc_curve(targets,logits)"
   ]
  },
  {
   "cell_type": "code",
   "execution_count": 19,
   "metadata": {},
   "outputs": [
    {
     "data": {
      "text/plain": [
       "[<matplotlib.lines.Line2D at 0x21663ef37c0>]"
      ]
     },
     "execution_count": 19,
     "metadata": {},
     "output_type": "execute_result"
    },
    {
     "data": {
      "image/png": "[encoded data removed]",
      "text/plain": [
       "<Figure size 640x480 with 1 Axes>"
      ]
     },
     "metadata": {},
     "output_type": "display_data"
    }
   ],
   "source": [
    "from matplotlib import pyplot as plt\n",
    "\n",
    "plt.plot(fpr, tpr)"
   ]
  },
  {
   "cell_type": "code",
   "execution_count": 70,
   "metadata": {},
   "outputs": [],
   "source": [
    "# torch.save(model.state_dict(), 'best_model.pt')"
   ]
  }
 ],
 "metadata": {
  "kernelspec": {
   "display_name": "chess",
   "language": "python",
   "name": "python3"
  },
  "language_info": {
   "codemirror_mode": {
    "name": "ipython",
    "version": 3
   },
   "file_extension": ".py",
   "mimetype": "text/x-python",
   "name": "python",
   "nbconvert_exporter": "python",
   "pygments_lexer": "ipython3",
   "version": "3.9.16"
  },
  "orig_nbformat": 4
 },
 "nbformat": 4,
 "nbformat_minor": 2
}
