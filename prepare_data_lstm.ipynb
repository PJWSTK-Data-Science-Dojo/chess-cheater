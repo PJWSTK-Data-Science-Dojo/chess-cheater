{
 "cells": [
  {
   "cell_type": "code",
   "execution_count": 1,
   "metadata": {},
   "outputs": [
    {
     "data": {
      "text/plain": [
       "0      1. d4 d5 2. c4 c6 3. e3 a6 4. Nf3 e5 5. cxd5 e...\n",
       "1      1. e4 e5 2. b3 Nf6 3. Bb2 Nc6 4. Nf3 d6 5. d3 ...\n",
       "2      1. e4 d5 2. exd5 Qxd5 3. Nf3 Bg4 4. Be2 Nf6 5....\n",
       "3      1. e3 Nf6 2. Bc4 d6 3. e4 e6 4. Nf3 Nxe4 5. Nd...\n",
       "4      1. e4 c5 2. Nf3 d6 3. d4 cxd4 4. Nxd4 Nf6 5. N...\n",
       "                             ...                        \n",
       "995    1. d4 d5 2. Nf3 Nc6 3. e3 Nf6 4. Bd3 e6 5. Nbd...\n",
       "996    1. d4 e6 2. e4 c5 3. d5 d6 4. Nc3 f5 5. dxe6 B...\n",
       "997    1. e4 e6 2. d4 c5 3. c3 a6 4. Nf3 h6 5. Be2 Be...\n",
       "998    1. e3 { [%eval 0.1] } 1... c5 { [%eval 0.18] }...\n",
       "999    1. e4 c6 2. Nc3 Nf6 3. g3 d6 4. Bg2 g6 5. Nge2...\n",
       "Name: AN, Length: 1000, dtype: object"
      ]
     },
     "execution_count": 1,
     "metadata": {},
     "output_type": "execute_result"
    }
   ],
   "source": [
    "import pandas as pd\n",
    "import time\n",
    "start = time.time()\n",
    "\n",
    "df = pd.read_csv('chess_games.csv',nrows=1_000)\n",
    "df['AN']"
   ]
  },
  {
   "cell_type": "code",
   "execution_count": 2,
   "metadata": {},
   "outputs": [
    {
     "data": {
      "text/plain": [
       "0      [d4, d5, c4, c6, e3, a6, Nf3, e5, cxd5, e4, Ne...\n",
       "1      [e4, e5, b3, Nf6, Bb2, Nc6, Nf3, d6, d3, g6, N...\n",
       "2      [e4, d5, exd5, Qxd5, Nf3, Bg4, Be2, Nf6, Nc3, ...\n",
       "3      [e3, Nf6, Bc4, d6, e4, e6, Nf3, Nxe4, Nd4, Nxf...\n",
       "4      [e4, c5, Nf3, d6, d4, cxd4, Nxd4, Nf6, Nc3, a6...\n",
       "                             ...                        \n",
       "995    [d4, d5, Nf3, Nc6, e3, Nf6, Bd3, e6, Nbd2, Be7...\n",
       "996    [d4, e6, e4, c5, d5, d6, Nc3, f5, dxe6, Bxe6, ...\n",
       "997    [e4, e6, d4, c5, c3, a6, Nf3, h6, Be2, Be7, O-...\n",
       "998    [e3, c5, Ne2, Nc6, Ng3, d6, Be2, e5, O-O, f5, ...\n",
       "999    [e4, c6, Nc3, Nf6, g3, d6, Bg2, g6, Nge2, Bg7,...\n",
       "Name: move_list, Length: 1000, dtype: object"
      ]
     },
     "execution_count": 2,
     "metadata": {},
     "output_type": "execute_result"
    }
   ],
   "source": [
    "import re\n",
    "\n",
    "def moves_to_list(moves):\n",
    "    moves_list = []\n",
    "    for element in moves.split():\n",
    "        if re.match('[a-zA-Z]+[1-9]|O-O|O-O-O', element) is not None:\n",
    "            element = element.replace('?', '')\n",
    "            element = element.replace('!', '')\n",
    "            element = element.replace('+', '')\n",
    "\n",
    "            moves_list.append(element)\n",
    "    \n",
    "    return moves_list\n",
    "\n",
    "df['move_list'] = df['AN'].apply(moves_to_list)\n",
    "df['move_list']"
   ]
  },
  {
   "cell_type": "code",
   "execution_count": 3,
   "metadata": {},
   "outputs": [],
   "source": [
    "import chess\n",
    "import numpy as np\n",
    "\n",
    "\n",
    "def save_board_state_after_move(moves):\n",
    "    board = chess.Board()\n",
    "    FEN_list = []\n",
    "    try:\n",
    "        for move in moves:\n",
    "            board.push_san(move)\n",
    "            FEN_list.append(board.fen())\n",
    "        return FEN_list\n",
    "    except Exception as e:\n",
    "        print(e)\n",
    "        return np.nan\n",
    "\n",
    "df['FENs'] = df['move_list'].apply(save_board_state_after_move)"
   ]
  },
  {
   "cell_type": "code",
   "execution_count": 4,
   "metadata": {},
   "outputs": [],
   "source": [
    "exploded_FENs = df['FENs'].explode()"
   ]
  },
  {
   "cell_type": "code",
   "execution_count": 7,
   "metadata": {},
   "outputs": [
    {
     "data": {
      "text/plain": [
       "array(['rnbqkbnr/pppppppp/8/8/3P4/8/PPP1PPPP/RNBQKBNR b KQkq - 0 1',\n",
       "       'rnbqkbnr/ppp1pppp/8/3p4/3P4/8/PPP1PPPP/RNBQKBNR w KQkq - 0 2',\n",
       "       'rnbqkbnr/ppp1pppp/8/3p4/2PP4/8/PP2PPPP/RNBQKBNR b KQkq - 0 2',\n",
       "       ...,\n",
       "       'r2r2k1/pp2ppbp/1np1bnp1/8/5P2/1PN3P1/P1PRN1BP/R1B3K1 w - - 1 15',\n",
       "       'r2r2k1/pp2ppbp/1np1bnp1/8/5P2/BPN3P1/P1PRN1BP/R5K1 b - - 2 15',\n",
       "       'r5k1/pp2ppbp/1np1bnp1/8/5P2/BPN3P1/P1PrN1BP/R5K1 w - - 0 16'],\n",
       "      dtype=object)"
      ]
     },
     "execution_count": 7,
     "metadata": {},
     "output_type": "execute_result"
    }
   ],
   "source": [
    "exploded_FENs.values"
   ]
  },
  {
   "cell_type": "code",
   "execution_count": 43,
   "metadata": {},
   "outputs": [],
   "source": [
    "from stockfish import Stockfish\n",
    "from random import randint\n",
    "\n",
    "def generate_stockfish_moves(FEN, num_moves=1):\n",
    "    FENs_list = [FEN]\n",
    "    stockfish = Stockfish(path=\"D:\\Programowanie\\StockFish\\stockfish_15.1_win_x64_avx2\\stockfish-windows-2022-x86-64-avx2.exe\")\n",
    "    board = chess.Board(FEN)\n",
    "    stockfish.set_fen_position(FEN)\n",
    "    for i in range(num_moves):\n",
    "        if board.is_checkmate():\n",
    "            break\n",
    "        stockfish.set_fen_position(board.fen())\n",
    "        top_moves = stockfish.get_top_moves(3)\n",
    "        selected_move = randint(0, len(top_moves)-1)\n",
    "        move = top_moves[selected_move]['Move']\n",
    "        # move = stockfish.get_best_move()\n",
    "        try:\n",
    "            board.push_uci(move)\n",
    "            FENs_list.append(board.fen())\n",
    "        except Exception as e:\n",
    "            print(e)\n",
    "            break\n",
    "    return FENs_list"
   ]
  },
  {
   "cell_type": "code",
   "execution_count": 14,
   "metadata": {},
   "outputs": [],
   "source": [
    "from threading import Thread\n",
    "\n",
    "class CustomThread(Thread):\n",
    "    def __init__(self, target, fen, index, num_moves):\n",
    "        Thread.__init__(self)\n",
    "        self.target = target\n",
    "        self.fen = fen\n",
    "        self.index = index\n",
    "        self.num_moves = num_moves\n",
    "        self.value = None\n",
    " \n",
    "    def run(self):\n",
    "        self.value = self.target(self.fen, self.index, self.num_moves)"
   ]
  },
  {
   "cell_type": "code",
   "execution_count": 45,
   "metadata": {},
   "outputs": [
    {
     "name": "stderr",
     "output_type": "stream",
     "text": [
      "100%|██████████| 125/125 [1:15:24<00:00, 36.20s/it]\n"
     ]
    }
   ],
   "source": [
    "from tqdm import tqdm\n",
    "\n",
    "stockfish_fens_list = []\n",
    "board = chess.Board()\n",
    "fen = board.fen()\n",
    "for _ in tqdm(range(125)):\n",
    "    threads = list()\n",
    "    for _ in range(8):\n",
    "        thread = CustomThread(target=generate_stockfish_moves, fen=fen, num_moves=68)\n",
    "        threads.append(thread)\n",
    "        thread.start()\n",
    "    \n",
    "    for thread in threads:\n",
    "        thread.join()\n",
    "        stockfish_fens_list.append(thread.value)\n",
    "# for _ in tqdm(range(1000)):\n",
    "#     stockfish_fens_list.append(generate_stockfish_moves(fen, 68))"
   ]
  },
  {
   "cell_type": "code",
   "execution_count": 40,
   "metadata": {},
   "outputs": [
    {
     "data": {
      "text/plain": [
       "80"
      ]
     },
     "execution_count": 40,
     "metadata": {},
     "output_type": "execute_result"
    }
   ],
   "source": [
    "len(stockfish_fens_list)"
   ]
  },
  {
   "cell_type": "code",
   "execution_count": 47,
   "metadata": {},
   "outputs": [
    {
     "data": {
      "text/plain": [
       "0      rnbqkbnr/pppppppp/8/8/8/8/PPPPPPPP/RNBQKBNR w ...\n",
       "0      rnbqkbnr/pppppppp/8/8/4P3/8/PPPP1PPP/RNBQKBNR ...\n",
       "0      rnbqkbnr/pp1ppppp/8/2p5/4P3/8/PPPP1PPP/RNBQKBN...\n",
       "0      rnbqkbnr/pp1ppppp/8/2p5/4P3/2N5/PPPP1PPP/R1BQK...\n",
       "0      rnbqkbnr/pp1p1ppp/4p3/2p5/4P3/2N5/PPPP1PPP/R1B...\n",
       "                             ...                        \n",
       "999    b5k1/5pb1/p7/2p3p1/2P3Q1/6P1/P1KP1PqP/1r6 w - ...\n",
       "999    b5k1/5pb1/p7/2p3p1/2P3Q1/6P1/P2P1PqP/1K6 b - -...\n",
       "999    b5k1/5pb1/p7/2p3p1/2P1q1Q1/6P1/P2P1P1P/1K6 w -...\n",
       "999    b5k1/5pb1/p7/2p3p1/2P1q1Q1/3P2P1/P4P1P/1K6 b -...\n",
       "999    b5k1/5pb1/p7/2p3p1/2P3Q1/3P2P1/P4P1P/1K2q3 w -...\n",
       "Name: FENs, Length: 68288, dtype: object"
      ]
     },
     "execution_count": 47,
     "metadata": {},
     "output_type": "execute_result"
    }
   ],
   "source": [
    "data = {'FENs' : stockfish_fens_list}\n",
    "\n",
    "stockfish_exploded_fens = pd.DataFrame(data=data)['FENs'].explode()\n",
    "stockfish_exploded_fens"
   ]
  },
  {
   "cell_type": "code",
   "execution_count": 48,
   "metadata": {},
   "outputs": [
    {
     "data": {
      "text/html": [
       "<div>\n",
       "<style scoped>\n",
       "    .dataframe tbody tr th:only-of-type {\n",
       "        vertical-align: middle;\n",
       "    }\n",
       "\n",
       "    .dataframe tbody tr th {\n",
       "        vertical-align: top;\n",
       "    }\n",
       "\n",
       "    .dataframe thead th {\n",
       "        text-align: right;\n",
       "    }\n",
       "</style>\n",
       "<table border=\"1\" class=\"dataframe\">\n",
       "  <thead>\n",
       "    <tr style=\"text-align: right;\">\n",
       "      <th></th>\n",
       "      <th>index</th>\n",
       "      <th>FEN</th>\n",
       "      <th>label</th>\n",
       "    </tr>\n",
       "  </thead>\n",
       "  <tbody>\n",
       "    <tr>\n",
       "      <th>0</th>\n",
       "      <td>0</td>\n",
       "      <td>rnbqkbnr/pppppppp/8/8/8/8/PPPPPPPP/RNBQKBNR w ...</td>\n",
       "      <td>1</td>\n",
       "    </tr>\n",
       "    <tr>\n",
       "      <th>1</th>\n",
       "      <td>0</td>\n",
       "      <td>rnbqkbnr/pppppppp/8/8/4P3/8/PPPP1PPP/RNBQKBNR ...</td>\n",
       "      <td>1</td>\n",
       "    </tr>\n",
       "    <tr>\n",
       "      <th>2</th>\n",
       "      <td>0</td>\n",
       "      <td>rnbqkbnr/pp1ppppp/8/2p5/4P3/8/PPPP1PPP/RNBQKBN...</td>\n",
       "      <td>1</td>\n",
       "    </tr>\n",
       "    <tr>\n",
       "      <th>3</th>\n",
       "      <td>0</td>\n",
       "      <td>rnbqkbnr/pp1ppppp/8/2p5/4P3/2N5/PPPP1PPP/R1BQK...</td>\n",
       "      <td>1</td>\n",
       "    </tr>\n",
       "    <tr>\n",
       "      <th>4</th>\n",
       "      <td>0</td>\n",
       "      <td>rnbqkbnr/pp1p1ppp/4p3/2p5/4P3/2N5/PPPP1PPP/R1B...</td>\n",
       "      <td>1</td>\n",
       "    </tr>\n",
       "    <tr>\n",
       "      <th>...</th>\n",
       "      <td>...</td>\n",
       "      <td>...</td>\n",
       "      <td>...</td>\n",
       "    </tr>\n",
       "    <tr>\n",
       "      <th>68283</th>\n",
       "      <td>999</td>\n",
       "      <td>b5k1/5pb1/p7/2p3p1/2P3Q1/6P1/P1KP1PqP/1r6 w - ...</td>\n",
       "      <td>1</td>\n",
       "    </tr>\n",
       "    <tr>\n",
       "      <th>68284</th>\n",
       "      <td>999</td>\n",
       "      <td>b5k1/5pb1/p7/2p3p1/2P3Q1/6P1/P2P1PqP/1K6 b - -...</td>\n",
       "      <td>1</td>\n",
       "    </tr>\n",
       "    <tr>\n",
       "      <th>68285</th>\n",
       "      <td>999</td>\n",
       "      <td>b5k1/5pb1/p7/2p3p1/2P1q1Q1/6P1/P2P1P1P/1K6 w -...</td>\n",
       "      <td>1</td>\n",
       "    </tr>\n",
       "    <tr>\n",
       "      <th>68286</th>\n",
       "      <td>999</td>\n",
       "      <td>b5k1/5pb1/p7/2p3p1/2P1q1Q1/3P2P1/P4P1P/1K6 b -...</td>\n",
       "      <td>1</td>\n",
       "    </tr>\n",
       "    <tr>\n",
       "      <th>68287</th>\n",
       "      <td>999</td>\n",
       "      <td>b5k1/5pb1/p7/2p3p1/2P3Q1/3P2P1/P4P1P/1K2q3 w -...</td>\n",
       "      <td>1</td>\n",
       "    </tr>\n",
       "  </tbody>\n",
       "</table>\n",
       "<p>68288 rows × 3 columns</p>\n",
       "</div>"
      ],
      "text/plain": [
       "       index                                                FEN  label\n",
       "0          0  rnbqkbnr/pppppppp/8/8/8/8/PPPPPPPP/RNBQKBNR w ...      1\n",
       "1          0  rnbqkbnr/pppppppp/8/8/4P3/8/PPPP1PPP/RNBQKBNR ...      1\n",
       "2          0  rnbqkbnr/pp1ppppp/8/2p5/4P3/8/PPPP1PPP/RNBQKBN...      1\n",
       "3          0  rnbqkbnr/pp1ppppp/8/2p5/4P3/2N5/PPPP1PPP/R1BQK...      1\n",
       "4          0  rnbqkbnr/pp1p1ppp/4p3/2p5/4P3/2N5/PPPP1PPP/R1B...      1\n",
       "...      ...                                                ...    ...\n",
       "68283    999  b5k1/5pb1/p7/2p3p1/2P3Q1/6P1/P1KP1PqP/1r6 w - ...      1\n",
       "68284    999  b5k1/5pb1/p7/2p3p1/2P3Q1/6P1/P2P1PqP/1K6 b - -...      1\n",
       "68285    999  b5k1/5pb1/p7/2p3p1/2P1q1Q1/6P1/P2P1P1P/1K6 w -...      1\n",
       "68286    999  b5k1/5pb1/p7/2p3p1/2P1q1Q1/3P2P1/P4P1P/1K6 b -...      1\n",
       "68287    999  b5k1/5pb1/p7/2p3p1/2P3Q1/3P2P1/P4P1P/1K2q3 w -...      1\n",
       "\n",
       "[68288 rows x 3 columns]"
      ]
     },
     "execution_count": 48,
     "metadata": {},
     "output_type": "execute_result"
    }
   ],
   "source": [
    "data = {'index' : stockfish_exploded_fens.index, 'FEN' : stockfish_exploded_fens.values, 'label' : 1}\n",
    "\n",
    "stockfish_fens_df = pd.DataFrame(data=data)\n",
    "stockfish_fens_df"
   ]
  },
  {
   "cell_type": "code",
   "execution_count": 49,
   "metadata": {},
   "outputs": [
    {
     "data": {
      "text/html": [
       "<div>\n",
       "<style scoped>\n",
       "    .dataframe tbody tr th:only-of-type {\n",
       "        vertical-align: middle;\n",
       "    }\n",
       "\n",
       "    .dataframe tbody tr th {\n",
       "        vertical-align: top;\n",
       "    }\n",
       "\n",
       "    .dataframe thead th {\n",
       "        text-align: right;\n",
       "    }\n",
       "</style>\n",
       "<table border=\"1\" class=\"dataframe\">\n",
       "  <thead>\n",
       "    <tr style=\"text-align: right;\">\n",
       "      <th></th>\n",
       "      <th>index</th>\n",
       "      <th>FEN</th>\n",
       "      <th>label</th>\n",
       "    </tr>\n",
       "  </thead>\n",
       "  <tbody>\n",
       "    <tr>\n",
       "      <th>0</th>\n",
       "      <td>0</td>\n",
       "      <td>rnbqkbnr/pppppppp/8/8/3P4/8/PPP1PPPP/RNBQKBNR ...</td>\n",
       "      <td>0</td>\n",
       "    </tr>\n",
       "    <tr>\n",
       "      <th>1</th>\n",
       "      <td>0</td>\n",
       "      <td>rnbqkbnr/ppp1pppp/8/3p4/3P4/8/PPP1PPPP/RNBQKBN...</td>\n",
       "      <td>0</td>\n",
       "    </tr>\n",
       "    <tr>\n",
       "      <th>2</th>\n",
       "      <td>0</td>\n",
       "      <td>rnbqkbnr/ppp1pppp/8/3p4/2PP4/8/PP2PPPP/RNBQKBN...</td>\n",
       "      <td>0</td>\n",
       "    </tr>\n",
       "    <tr>\n",
       "      <th>3</th>\n",
       "      <td>0</td>\n",
       "      <td>rnbqkbnr/pp2pppp/2p5/3p4/2PP4/8/PP2PPPP/RNBQKB...</td>\n",
       "      <td>0</td>\n",
       "    </tr>\n",
       "    <tr>\n",
       "      <th>4</th>\n",
       "      <td>0</td>\n",
       "      <td>rnbqkbnr/pp2pppp/2p5/3p4/2PP4/4P3/PP3PPP/RNBQK...</td>\n",
       "      <td>0</td>\n",
       "    </tr>\n",
       "    <tr>\n",
       "      <th>...</th>\n",
       "      <td>...</td>\n",
       "      <td>...</td>\n",
       "      <td>...</td>\n",
       "    </tr>\n",
       "    <tr>\n",
       "      <th>68012</th>\n",
       "      <td>999</td>\n",
       "      <td>r4rk1/pp2ppbp/1np1bnp1/8/5P2/2N3P1/PPPRN1BP/R1...</td>\n",
       "      <td>0</td>\n",
       "    </tr>\n",
       "    <tr>\n",
       "      <th>68013</th>\n",
       "      <td>999</td>\n",
       "      <td>r4rk1/pp2ppbp/1np1bnp1/8/5P2/1PN3P1/P1PRN1BP/R...</td>\n",
       "      <td>0</td>\n",
       "    </tr>\n",
       "    <tr>\n",
       "      <th>68014</th>\n",
       "      <td>999</td>\n",
       "      <td>r2r2k1/pp2ppbp/1np1bnp1/8/5P2/1PN3P1/P1PRN1BP/...</td>\n",
       "      <td>0</td>\n",
       "    </tr>\n",
       "    <tr>\n",
       "      <th>68015</th>\n",
       "      <td>999</td>\n",
       "      <td>r2r2k1/pp2ppbp/1np1bnp1/8/5P2/BPN3P1/P1PRN1BP/...</td>\n",
       "      <td>0</td>\n",
       "    </tr>\n",
       "    <tr>\n",
       "      <th>68016</th>\n",
       "      <td>999</td>\n",
       "      <td>r5k1/pp2ppbp/1np1bnp1/8/5P2/BPN3P1/P1PrN1BP/R5...</td>\n",
       "      <td>0</td>\n",
       "    </tr>\n",
       "  </tbody>\n",
       "</table>\n",
       "<p>68017 rows × 3 columns</p>\n",
       "</div>"
      ],
      "text/plain": [
       "       index                                                FEN  label\n",
       "0          0  rnbqkbnr/pppppppp/8/8/3P4/8/PPP1PPPP/RNBQKBNR ...      0\n",
       "1          0  rnbqkbnr/ppp1pppp/8/3p4/3P4/8/PPP1PPPP/RNBQKBN...      0\n",
       "2          0  rnbqkbnr/ppp1pppp/8/3p4/2PP4/8/PP2PPPP/RNBQKBN...      0\n",
       "3          0  rnbqkbnr/pp2pppp/2p5/3p4/2PP4/8/PP2PPPP/RNBQKB...      0\n",
       "4          0  rnbqkbnr/pp2pppp/2p5/3p4/2PP4/4P3/PP3PPP/RNBQK...      0\n",
       "...      ...                                                ...    ...\n",
       "68012    999  r4rk1/pp2ppbp/1np1bnp1/8/5P2/2N3P1/PPPRN1BP/R1...      0\n",
       "68013    999  r4rk1/pp2ppbp/1np1bnp1/8/5P2/1PN3P1/P1PRN1BP/R...      0\n",
       "68014    999  r2r2k1/pp2ppbp/1np1bnp1/8/5P2/1PN3P1/P1PRN1BP/...      0\n",
       "68015    999  r2r2k1/pp2ppbp/1np1bnp1/8/5P2/BPN3P1/P1PRN1BP/...      0\n",
       "68016    999  r5k1/pp2ppbp/1np1bnp1/8/5P2/BPN3P1/P1PrN1BP/R5...      0\n",
       "\n",
       "[68017 rows x 3 columns]"
      ]
     },
     "execution_count": 49,
     "metadata": {},
     "output_type": "execute_result"
    }
   ],
   "source": [
    "data = {'index' : exploded_FENs.index, 'FEN' : exploded_FENs.values, 'label' : 0}\n",
    "\n",
    "human_fens_df = pd.DataFrame(data=data)\n",
    "human_fens_df"
   ]
  },
  {
   "cell_type": "code",
   "execution_count": 54,
   "metadata": {},
   "outputs": [
    {
     "data": {
      "text/html": [
       "<div>\n",
       "<style scoped>\n",
       "    .dataframe tbody tr th:only-of-type {\n",
       "        vertical-align: middle;\n",
       "    }\n",
       "\n",
       "    .dataframe tbody tr th {\n",
       "        vertical-align: top;\n",
       "    }\n",
       "\n",
       "    .dataframe thead th {\n",
       "        text-align: right;\n",
       "    }\n",
       "</style>\n",
       "<table border=\"1\" class=\"dataframe\">\n",
       "  <thead>\n",
       "    <tr style=\"text-align: right;\">\n",
       "      <th></th>\n",
       "      <th>index</th>\n",
       "      <th>FEN</th>\n",
       "      <th>label</th>\n",
       "    </tr>\n",
       "  </thead>\n",
       "  <tbody>\n",
       "    <tr>\n",
       "      <th>0</th>\n",
       "      <td>0</td>\n",
       "      <td>rnbqkbnr/pppppppp/8/8/3P4/8/PPP1PPPP/RNBQKBNR ...</td>\n",
       "      <td>0</td>\n",
       "    </tr>\n",
       "    <tr>\n",
       "      <th>1</th>\n",
       "      <td>0</td>\n",
       "      <td>rnbqkbnr/ppp1pppp/8/3p4/3P4/8/PPP1PPPP/RNBQKBN...</td>\n",
       "      <td>0</td>\n",
       "    </tr>\n",
       "    <tr>\n",
       "      <th>2</th>\n",
       "      <td>0</td>\n",
       "      <td>rnbqkbnr/ppp1pppp/8/3p4/2PP4/8/PP2PPPP/RNBQKBN...</td>\n",
       "      <td>0</td>\n",
       "    </tr>\n",
       "    <tr>\n",
       "      <th>3</th>\n",
       "      <td>0</td>\n",
       "      <td>rnbqkbnr/pp2pppp/2p5/3p4/2PP4/8/PP2PPPP/RNBQKB...</td>\n",
       "      <td>0</td>\n",
       "    </tr>\n",
       "    <tr>\n",
       "      <th>4</th>\n",
       "      <td>0</td>\n",
       "      <td>rnbqkbnr/pp2pppp/2p5/3p4/2PP4/4P3/PP3PPP/RNBQK...</td>\n",
       "      <td>0</td>\n",
       "    </tr>\n",
       "    <tr>\n",
       "      <th>...</th>\n",
       "      <td>...</td>\n",
       "      <td>...</td>\n",
       "      <td>...</td>\n",
       "    </tr>\n",
       "    <tr>\n",
       "      <th>68283</th>\n",
       "      <td>1999</td>\n",
       "      <td>b5k1/5pb1/p7/2p3p1/2P3Q1/6P1/P1KP1PqP/1r6 w - ...</td>\n",
       "      <td>1</td>\n",
       "    </tr>\n",
       "    <tr>\n",
       "      <th>68284</th>\n",
       "      <td>1999</td>\n",
       "      <td>b5k1/5pb1/p7/2p3p1/2P3Q1/6P1/P2P1PqP/1K6 b - -...</td>\n",
       "      <td>1</td>\n",
       "    </tr>\n",
       "    <tr>\n",
       "      <th>68285</th>\n",
       "      <td>1999</td>\n",
       "      <td>b5k1/5pb1/p7/2p3p1/2P1q1Q1/6P1/P2P1P1P/1K6 w -...</td>\n",
       "      <td>1</td>\n",
       "    </tr>\n",
       "    <tr>\n",
       "      <th>68286</th>\n",
       "      <td>1999</td>\n",
       "      <td>b5k1/5pb1/p7/2p3p1/2P1q1Q1/3P2P1/P4P1P/1K6 b -...</td>\n",
       "      <td>1</td>\n",
       "    </tr>\n",
       "    <tr>\n",
       "      <th>68287</th>\n",
       "      <td>1999</td>\n",
       "      <td>b5k1/5pb1/p7/2p3p1/2P3Q1/3P2P1/P4P1P/1K2q3 w -...</td>\n",
       "      <td>1</td>\n",
       "    </tr>\n",
       "  </tbody>\n",
       "</table>\n",
       "<p>136305 rows × 3 columns</p>\n",
       "</div>"
      ],
      "text/plain": [
       "       index                                                FEN  label\n",
       "0          0  rnbqkbnr/pppppppp/8/8/3P4/8/PPP1PPPP/RNBQKBNR ...      0\n",
       "1          0  rnbqkbnr/ppp1pppp/8/3p4/3P4/8/PPP1PPPP/RNBQKBN...      0\n",
       "2          0  rnbqkbnr/ppp1pppp/8/3p4/2PP4/8/PP2PPPP/RNBQKBN...      0\n",
       "3          0  rnbqkbnr/pp2pppp/2p5/3p4/2PP4/8/PP2PPPP/RNBQKB...      0\n",
       "4          0  rnbqkbnr/pp2pppp/2p5/3p4/2PP4/4P3/PP3PPP/RNBQK...      0\n",
       "...      ...                                                ...    ...\n",
       "68283   1999  b5k1/5pb1/p7/2p3p1/2P3Q1/6P1/P1KP1PqP/1r6 w - ...      1\n",
       "68284   1999  b5k1/5pb1/p7/2p3p1/2P3Q1/6P1/P2P1PqP/1K6 b - -...      1\n",
       "68285   1999  b5k1/5pb1/p7/2p3p1/2P1q1Q1/6P1/P2P1P1P/1K6 w -...      1\n",
       "68286   1999  b5k1/5pb1/p7/2p3p1/2P1q1Q1/3P2P1/P4P1P/1K6 b -...      1\n",
       "68287   1999  b5k1/5pb1/p7/2p3p1/2P3Q1/3P2P1/P4P1P/1K2q3 w -...      1\n",
       "\n",
       "[136305 rows x 3 columns]"
      ]
     },
     "execution_count": 54,
     "metadata": {},
     "output_type": "execute_result"
    }
   ],
   "source": [
    "preprocessed_dataset = pd.concat([human_fens_df, stockfish_fens_df])\n",
    "preprocessed_dataset['index'] = preprocessed_dataset['index'] + 1000 * preprocessed_dataset['label']\n",
    "preprocessed_dataset"
   ]
  },
  {
   "cell_type": "code",
   "execution_count": 55,
   "metadata": {},
   "outputs": [],
   "source": [
    "preprocessed_dataset.to_csv('dataset_lstm_2.csv')"
   ]
  }
 ],
 "metadata": {
  "kernelspec": {
   "display_name": "chess",
   "language": "python",
   "name": "python3"
  },
  "language_info": {
   "codemirror_mode": {
    "name": "ipython",
    "version": 3
   },
   "file_extension": ".py",
   "mimetype": "text/x-python",
   "name": "python",
   "nbconvert_exporter": "python",
   "pygments_lexer": "ipython3",
   "version": "3.9.16"
  },
  "orig_nbformat": 4
 },
 "nbformat": 4,
 "nbformat_minor": 2
}
