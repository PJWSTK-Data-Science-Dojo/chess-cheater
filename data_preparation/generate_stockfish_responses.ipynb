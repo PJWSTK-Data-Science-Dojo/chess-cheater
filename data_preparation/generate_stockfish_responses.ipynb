{
 "cells": [
  {
   "cell_type": "code",
   "execution_count": 12,
   "metadata": {},
   "outputs": [
    {
     "data": {
      "text/plain": [
       "0      1. d4 d5 2. c4 c6 3. e3 a6 4. Nf3 e5 5. cxd5 e...\n",
       "1      1. e4 e5 2. b3 Nf6 3. Bb2 Nc6 4. Nf3 d6 5. d3 ...\n",
       "2      1. e4 d5 2. exd5 Qxd5 3. Nf3 Bg4 4. Be2 Nf6 5....\n",
       "3      1. e3 Nf6 2. Bc4 d6 3. e4 e6 4. Nf3 Nxe4 5. Nd...\n",
       "4      1. e4 c5 2. Nf3 d6 3. d4 cxd4 4. Nxd4 Nf6 5. N...\n",
       "                             ...                        \n",
       "995    1. d4 d5 2. Nf3 Nc6 3. e3 Nf6 4. Bd3 e6 5. Nbd...\n",
       "996    1. d4 e6 2. e4 c5 3. d5 d6 4. Nc3 f5 5. dxe6 B...\n",
       "997    1. e4 e6 2. d4 c5 3. c3 a6 4. Nf3 h6 5. Be2 Be...\n",
       "998    1. e3 { [%eval 0.1] } 1... c5 { [%eval 0.18] }...\n",
       "999    1. e4 c6 2. Nc3 Nf6 3. g3 d6 4. Bg2 g6 5. Nge2...\n",
       "Name: AN, Length: 1000, dtype: object"
      ]
     },
     "execution_count": 12,
     "metadata": {},
     "output_type": "execute_result"
    }
   ],
   "source": [
    "import pandas as pd\n",
    "import time\n",
    "start = time.time()\n",
    "\n",
    "df = pd.read_csv('chess_games.csv',nrows=1_000)\n",
    "df['AN']"
   ]
  },
  {
   "cell_type": "code",
   "execution_count": 13,
   "metadata": {},
   "outputs": [
    {
     "data": {
      "text/plain": [
       "0      [d4, d5, c4, c6, e3, a6, Nf3, e5, cxd5, e4, Ne...\n",
       "1      [e4, e5, b3, Nf6, Bb2, Nc6, Nf3, d6, d3, g6, N...\n",
       "2      [e4, d5, exd5, Qxd5, Nf3, Bg4, Be2, Nf6, Nc3, ...\n",
       "3      [e3, Nf6, Bc4, d6, e4, e6, Nf3, Nxe4, Nd4, Nxf...\n",
       "4      [e4, c5, Nf3, d6, d4, cxd4, Nxd4, Nf6, Nc3, a6...\n",
       "                             ...                        \n",
       "995    [d4, d5, Nf3, Nc6, e3, Nf6, Bd3, e6, Nbd2, Be7...\n",
       "996    [d4, e6, e4, c5, d5, d6, Nc3, f5, dxe6, Bxe6, ...\n",
       "997    [e4, e6, d4, c5, c3, a6, Nf3, h6, Be2, Be7, O-...\n",
       "998    [e3, c5, Ne2, Nc6, Ng3, d6, Be2, e5, O-O, f5, ...\n",
       "999    [e4, c6, Nc3, Nf6, g3, d6, Bg2, g6, Nge2, Bg7,...\n",
       "Name: move_list, Length: 1000, dtype: object"
      ]
     },
     "execution_count": 13,
     "metadata": {},
     "output_type": "execute_result"
    }
   ],
   "source": [
    "import re\n",
    "\n",
    "def moves_to_list(moves):\n",
    "    moves_list = []\n",
    "    for element in moves.split():\n",
    "        if re.match('[a-zA-Z]+[1-9]|O-O|O-O-O', element) is not None:\n",
    "            element = element.replace('?', '')\n",
    "            element = element.replace('!', '')\n",
    "            element = element.replace('+', '')\n",
    "\n",
    "            moves_list.append(element)\n",
    "    \n",
    "    return moves_list\n",
    "\n",
    "df['move_list'] = df['AN'].apply(moves_to_list)\n",
    "df['move_list']"
   ]
  },
  {
   "cell_type": "code",
   "execution_count": 14,
   "metadata": {},
   "outputs": [],
   "source": [
    "import chess\n",
    "import numpy as np\n",
    "\n",
    "\n",
    "def save_board_state_after_move(moves):\n",
    "    board = chess.Board()\n",
    "    FEN_list = []\n",
    "    try:\n",
    "        for move in moves:\n",
    "            board.push_san(move)\n",
    "            FEN_list.append(board.fen())\n",
    "        return FEN_list\n",
    "    except Exception as e:\n",
    "        print(e)\n",
    "        return np.nan\n",
    "\n",
    "df['FENs'] = df['move_list'].apply(save_board_state_after_move)"
   ]
  },
  {
   "cell_type": "code",
   "execution_count": 15,
   "metadata": {},
   "outputs": [],
   "source": [
    "exploded_FENs = df['FENs'].explode()"
   ]
  },
  {
   "cell_type": "code",
   "execution_count": 16,
   "metadata": {},
   "outputs": [],
   "source": [
    "data = {'index' : exploded_FENs.index, 'FEN' : exploded_FENs.values}\n",
    "df_games = pd.DataFrame(data=data)"
   ]
  },
  {
   "cell_type": "code",
   "execution_count": 17,
   "metadata": {},
   "outputs": [],
   "source": [
    "df_games['move'] = df_games.groupby('index')['index'].rank(method='first').astype('int')"
   ]
  },
  {
   "cell_type": "code",
   "execution_count": 18,
   "metadata": {},
   "outputs": [],
   "source": [
    "list_for_threads = []\n",
    "for i in range(1, 9):\n",
    "    list_for_threads.append(df_games[(df_games['index'] < i * 125) & (df_games['index'] >= (i-1) * 125)])"
   ]
  },
  {
   "cell_type": "code",
   "execution_count": 19,
   "metadata": {},
   "outputs": [],
   "source": [
    "from stockfish import Stockfish\n",
    "# from random import randint\n",
    "\n",
    "def generate_stockfish_moves(FEN):\n",
    "    FENs_list = []\n",
    "    stockfish = Stockfish(path=\"D:\\Programowanie\\StockFish\\stockfish_15.1_win_x64_avx2\\stockfish-windows-2022-x86-64-avx2.exe\")\n",
    "    board = chess.Board(FEN)\n",
    "    stockfish.set_fen_position(FEN)\n",
    "    for i in range(1):\n",
    "        if board.is_checkmate():\n",
    "            break\n",
    "        stockfish.set_fen_position(board.fen())\n",
    "        top_moves = stockfish.get_top_moves(3)\n",
    "        # selected_move = randint(0, len(top_moves)-1)\n",
    "        # move = top_moves[selected_move]['Move']\n",
    "        try:\n",
    "            for move in top_moves:\n",
    "                board = chess.Board(FEN)\n",
    "                board.push_uci(move['Move'])\n",
    "                FENs_list.append(board.fen())\n",
    "        except Exception as e:\n",
    "            print(e)\n",
    "            break\n",
    "    return FENs_list"
   ]
  },
  {
   "cell_type": "code",
   "execution_count": 20,
   "metadata": {},
   "outputs": [],
   "source": [
    "from threading import Thread\n",
    "\n",
    "class CustomThread(Thread):\n",
    "    def __init__(self, target, df):\n",
    "        Thread.__init__(self)\n",
    "        self.target = target\n",
    "        self.df = df\n",
    "        self.value = None\n",
    " \n",
    "    def run(self):\n",
    "        self.value = self.target(self.df)"
   ]
  },
  {
   "cell_type": "code",
   "execution_count": 21,
   "metadata": {},
   "outputs": [],
   "source": [
    "from tqdm import tqdm\n",
    "\n",
    "def run_generate_stockfish_moves(df):\n",
    "    return_dict_list = []\n",
    "    for idx, iter_row in enumerate(df.iterrows()):\n",
    "        _, row = iter_row\n",
    "        return_dict = {}\n",
    "        return_dict['FEN'] = generate_stockfish_moves(row['FEN'])\n",
    "        return_dict['move'] = row['move']\n",
    "        return_dict['index'] = row['index']\n",
    "        return_dict_list.append(return_dict)\n",
    "        print(idx/len(df) * 100, end='\\r')\n",
    "\n",
    "    return return_dict_list"
   ]
  },
  {
   "cell_type": "code",
   "execution_count": 22,
   "metadata": {},
   "outputs": [
    {
     "name": "stdout",
     "output_type": "stream",
     "text": [
      "99.9884071412010299.9400119976004854231.8144643065778736.768314055380358.7863463969658662.8680732668676176.1620832319299179.1031726205346179.0161967606478783.8038452178145586.03060514722931\r"
     ]
    }
   ],
   "source": [
    "stockfish_fens_list = []\n",
    "threads = list()\n",
    "for idx, list_for_thread in enumerate(list_for_threads):\n",
    "    thread = CustomThread(target=run_generate_stockfish_moves, df=list_for_thread)\n",
    "    threads.append(thread)\n",
    "    thread.start()\n",
    "    # print(idx)\n",
    "\n",
    "for thread in threads:\n",
    "    thread.join()\n",
    "    stockfish_fens_list.append(thread.value)"
   ]
  },
  {
   "cell_type": "code",
   "execution_count": 30,
   "metadata": {},
   "outputs": [
    {
     "data": {
      "text/plain": [
       "{'FEN': ['rnbqkbnr/ppp1pppp/8/3p4/3P4/8/PPP1PPPP/RNBQKBNR w KQkq - 0 2',\n",
       "  'rnbqkb1r/pppppppp/5n2/8/3P4/8/PPP1PPPP/RNBQKBNR w KQkq - 1 2',\n",
       "  'rnbqkbnr/pppp1ppp/4p3/8/3P4/8/PPP1PPPP/RNBQKBNR w KQkq - 0 2'],\n",
       " 'move': 1,\n",
       " 'index': 0}"
      ]
     },
     "execution_count": 30,
     "metadata": {},
     "output_type": "execute_result"
    }
   ],
   "source": [
    "stockfish_fens_list_union = []\n",
    "for fens_list in stockfish_fens_list:\n",
    "    stockfish_fens_list_union += fens_list\n",
    "stockfish_fens_list_union[0]"
   ]
  },
  {
   "cell_type": "code",
   "execution_count": 66,
   "metadata": {},
   "outputs": [],
   "source": [
    "df_stockfish_moves = pd.DataFrame(data=stockfish_fens_list_union)"
   ]
  },
  {
   "cell_type": "code",
   "execution_count": 68,
   "metadata": {},
   "outputs": [],
   "source": [
    "df_stockfish_moves['move'] = df_stockfish_moves['move'] + 1"
   ]
  },
  {
   "cell_type": "code",
   "execution_count": 69,
   "metadata": {},
   "outputs": [
    {
     "data": {
      "text/html": [
       "<div>\n",
       "<style scoped>\n",
       "    .dataframe tbody tr th:only-of-type {\n",
       "        vertical-align: middle;\n",
       "    }\n",
       "\n",
       "    .dataframe tbody tr th {\n",
       "        vertical-align: top;\n",
       "    }\n",
       "\n",
       "    .dataframe thead th {\n",
       "        text-align: right;\n",
       "    }\n",
       "</style>\n",
       "<table border=\"1\" class=\"dataframe\">\n",
       "  <thead>\n",
       "    <tr style=\"text-align: right;\">\n",
       "      <th></th>\n",
       "      <th>index</th>\n",
       "      <th>FEN</th>\n",
       "      <th>move</th>\n",
       "    </tr>\n",
       "  </thead>\n",
       "  <tbody>\n",
       "    <tr>\n",
       "      <th>0</th>\n",
       "      <td>0</td>\n",
       "      <td>rnbqkbnr/pppppppp/8/8/3P4/8/PPP1PPPP/RNBQKBNR ...</td>\n",
       "      <td>1</td>\n",
       "    </tr>\n",
       "    <tr>\n",
       "      <th>1</th>\n",
       "      <td>0</td>\n",
       "      <td>rnbqkbnr/ppp1pppp/8/3p4/3P4/8/PPP1PPPP/RNBQKBN...</td>\n",
       "      <td>2</td>\n",
       "    </tr>\n",
       "    <tr>\n",
       "      <th>2</th>\n",
       "      <td>0</td>\n",
       "      <td>rnbqkbnr/ppp1pppp/8/3p4/2PP4/8/PP2PPPP/RNBQKBN...</td>\n",
       "      <td>3</td>\n",
       "    </tr>\n",
       "    <tr>\n",
       "      <th>3</th>\n",
       "      <td>0</td>\n",
       "      <td>rnbqkbnr/pp2pppp/2p5/3p4/2PP4/8/PP2PPPP/RNBQKB...</td>\n",
       "      <td>4</td>\n",
       "    </tr>\n",
       "    <tr>\n",
       "      <th>4</th>\n",
       "      <td>0</td>\n",
       "      <td>rnbqkbnr/pp2pppp/2p5/3p4/2PP4/4P3/PP3PPP/RNBQK...</td>\n",
       "      <td>5</td>\n",
       "    </tr>\n",
       "    <tr>\n",
       "      <th>...</th>\n",
       "      <td>...</td>\n",
       "      <td>...</td>\n",
       "      <td>...</td>\n",
       "    </tr>\n",
       "    <tr>\n",
       "      <th>68012</th>\n",
       "      <td>999</td>\n",
       "      <td>r4rk1/pp2ppbp/1np1bnp1/8/5P2/2N3P1/PPPRN1BP/R1...</td>\n",
       "      <td>26</td>\n",
       "    </tr>\n",
       "    <tr>\n",
       "      <th>68013</th>\n",
       "      <td>999</td>\n",
       "      <td>r4rk1/pp2ppbp/1np1bnp1/8/5P2/1PN3P1/P1PRN1BP/R...</td>\n",
       "      <td>27</td>\n",
       "    </tr>\n",
       "    <tr>\n",
       "      <th>68014</th>\n",
       "      <td>999</td>\n",
       "      <td>r2r2k1/pp2ppbp/1np1bnp1/8/5P2/1PN3P1/P1PRN1BP/...</td>\n",
       "      <td>28</td>\n",
       "    </tr>\n",
       "    <tr>\n",
       "      <th>68015</th>\n",
       "      <td>999</td>\n",
       "      <td>r2r2k1/pp2ppbp/1np1bnp1/8/5P2/BPN3P1/P1PRN1BP/...</td>\n",
       "      <td>29</td>\n",
       "    </tr>\n",
       "    <tr>\n",
       "      <th>68016</th>\n",
       "      <td>999</td>\n",
       "      <td>r5k1/pp2ppbp/1np1bnp1/8/5P2/BPN3P1/P1PrN1BP/R5...</td>\n",
       "      <td>30</td>\n",
       "    </tr>\n",
       "  </tbody>\n",
       "</table>\n",
       "<p>68017 rows × 3 columns</p>\n",
       "</div>"
      ],
      "text/plain": [
       "       index                                                FEN  move\n",
       "0          0  rnbqkbnr/pppppppp/8/8/3P4/8/PPP1PPPP/RNBQKBNR ...     1\n",
       "1          0  rnbqkbnr/ppp1pppp/8/3p4/3P4/8/PPP1PPPP/RNBQKBN...     2\n",
       "2          0  rnbqkbnr/ppp1pppp/8/3p4/2PP4/8/PP2PPPP/RNBQKBN...     3\n",
       "3          0  rnbqkbnr/pp2pppp/2p5/3p4/2PP4/8/PP2PPPP/RNBQKB...     4\n",
       "4          0  rnbqkbnr/pp2pppp/2p5/3p4/2PP4/4P3/PP3PPP/RNBQK...     5\n",
       "...      ...                                                ...   ...\n",
       "68012    999  r4rk1/pp2ppbp/1np1bnp1/8/5P2/2N3P1/PPPRN1BP/R1...    26\n",
       "68013    999  r4rk1/pp2ppbp/1np1bnp1/8/5P2/1PN3P1/P1PRN1BP/R...    27\n",
       "68014    999  r2r2k1/pp2ppbp/1np1bnp1/8/5P2/1PN3P1/P1PRN1BP/...    28\n",
       "68015    999  r2r2k1/pp2ppbp/1np1bnp1/8/5P2/BPN3P1/P1PRN1BP/...    29\n",
       "68016    999  r5k1/pp2ppbp/1np1bnp1/8/5P2/BPN3P1/P1PrN1BP/R5...    30\n",
       "\n",
       "[68017 rows x 3 columns]"
      ]
     },
     "execution_count": 69,
     "metadata": {},
     "output_type": "execute_result"
    }
   ],
   "source": [
    "df_games"
   ]
  },
  {
   "cell_type": "code",
   "execution_count": 72,
   "metadata": {},
   "outputs": [
    {
     "data": {
      "text/html": [
       "<div>\n",
       "<style scoped>\n",
       "    .dataframe tbody tr th:only-of-type {\n",
       "        vertical-align: middle;\n",
       "    }\n",
       "\n",
       "    .dataframe tbody tr th {\n",
       "        vertical-align: top;\n",
       "    }\n",
       "\n",
       "    .dataframe thead th {\n",
       "        text-align: right;\n",
       "    }\n",
       "</style>\n",
       "<table border=\"1\" class=\"dataframe\">\n",
       "  <thead>\n",
       "    <tr style=\"text-align: right;\">\n",
       "      <th></th>\n",
       "      <th>index</th>\n",
       "      <th>FEN</th>\n",
       "      <th>move</th>\n",
       "      <th>FEN_stockfish</th>\n",
       "    </tr>\n",
       "  </thead>\n",
       "  <tbody>\n",
       "    <tr>\n",
       "      <th>1</th>\n",
       "      <td>0</td>\n",
       "      <td>rnbqkbnr/ppp1pppp/8/3p4/3P4/8/PPP1PPPP/RNBQKBN...</td>\n",
       "      <td>2</td>\n",
       "      <td>[rnbqkbnr/ppp1pppp/8/3p4/3P4/8/PPP1PPPP/RNBQKB...</td>\n",
       "    </tr>\n",
       "    <tr>\n",
       "      <th>2</th>\n",
       "      <td>0</td>\n",
       "      <td>rnbqkbnr/ppp1pppp/8/3p4/2PP4/8/PP2PPPP/RNBQKBN...</td>\n",
       "      <td>3</td>\n",
       "      <td>[rnbqkbnr/ppp1pppp/8/3p4/2PP4/8/PP2PPPP/RNBQKB...</td>\n",
       "    </tr>\n",
       "    <tr>\n",
       "      <th>3</th>\n",
       "      <td>0</td>\n",
       "      <td>rnbqkbnr/pp2pppp/2p5/3p4/2PP4/8/PP2PPPP/RNBQKB...</td>\n",
       "      <td>4</td>\n",
       "      <td>[rnbqkbnr/ppp2ppp/4p3/3p4/2PP4/8/PP2PPPP/RNBQK...</td>\n",
       "    </tr>\n",
       "    <tr>\n",
       "      <th>4</th>\n",
       "      <td>0</td>\n",
       "      <td>rnbqkbnr/pp2pppp/2p5/3p4/2PP4/4P3/PP3PPP/RNBQK...</td>\n",
       "      <td>5</td>\n",
       "      <td>[rnbqkbnr/pp2pppp/2p5/3P4/3P4/8/PP2PPPP/RNBQKB...</td>\n",
       "    </tr>\n",
       "    <tr>\n",
       "      <th>5</th>\n",
       "      <td>0</td>\n",
       "      <td>rnbqkbnr/1p2pppp/p1p5/3p4/2PP4/4P3/PP3PPP/RNBQ...</td>\n",
       "      <td>6</td>\n",
       "      <td>[rn1qkbnr/pp2pppp/2p5/3p1b2/2PP4/4P3/PP3PPP/RN...</td>\n",
       "    </tr>\n",
       "    <tr>\n",
       "      <th>...</th>\n",
       "      <td>...</td>\n",
       "      <td>...</td>\n",
       "      <td>...</td>\n",
       "      <td>...</td>\n",
       "    </tr>\n",
       "    <tr>\n",
       "      <th>68012</th>\n",
       "      <td>999</td>\n",
       "      <td>r4rk1/pp2ppbp/1np1bnp1/8/5P2/2N3P1/PPPRN1BP/R1...</td>\n",
       "      <td>26</td>\n",
       "      <td>[r1b2rk1/pp2ppbp/2p2np1/8/2n2P2/2N3P1/PPPRN1BP...</td>\n",
       "    </tr>\n",
       "    <tr>\n",
       "      <th>68013</th>\n",
       "      <td>999</td>\n",
       "      <td>r4rk1/pp2ppbp/1np1bnp1/8/5P2/1PN3P1/P1PRN1BP/R...</td>\n",
       "      <td>27</td>\n",
       "      <td>[r4rk1/pp2ppbp/1np1bnp1/8/3N1P2/2N3P1/PPPR2BP/...</td>\n",
       "    </tr>\n",
       "    <tr>\n",
       "      <th>68014</th>\n",
       "      <td>999</td>\n",
       "      <td>r2r2k1/pp2ppbp/1np1bnp1/8/5P2/1PN3P1/P1PRN1BP/...</td>\n",
       "      <td>28</td>\n",
       "      <td>[r4rk1/pp2ppbp/1np1b1p1/3n4/5P2/1PN3P1/P1PRN1B...</td>\n",
       "    </tr>\n",
       "    <tr>\n",
       "      <th>68015</th>\n",
       "      <td>999</td>\n",
       "      <td>r2r2k1/pp2ppbp/1np1bnp1/8/5P2/BPN3P1/P1PRN1BP/...</td>\n",
       "      <td>29</td>\n",
       "      <td>[r2R2k1/pp2ppbp/1np1bnp1/8/5P2/1PN3P1/P1P1N1BP...</td>\n",
       "    </tr>\n",
       "    <tr>\n",
       "      <th>68016</th>\n",
       "      <td>999</td>\n",
       "      <td>r5k1/pp2ppbp/1np1bnp1/8/5P2/BPN3P1/P1PrN1BP/R5...</td>\n",
       "      <td>30</td>\n",
       "      <td>[r5k1/pp2ppbp/1np1bnp1/8/5P2/BPN3P1/P1PrN1BP/R...</td>\n",
       "    </tr>\n",
       "  </tbody>\n",
       "</table>\n",
       "<p>67017 rows × 4 columns</p>\n",
       "</div>"
      ],
      "text/plain": [
       "       index                                                FEN  move  \\\n",
       "1          0  rnbqkbnr/ppp1pppp/8/3p4/3P4/8/PPP1PPPP/RNBQKBN...     2   \n",
       "2          0  rnbqkbnr/ppp1pppp/8/3p4/2PP4/8/PP2PPPP/RNBQKBN...     3   \n",
       "3          0  rnbqkbnr/pp2pppp/2p5/3p4/2PP4/8/PP2PPPP/RNBQKB...     4   \n",
       "4          0  rnbqkbnr/pp2pppp/2p5/3p4/2PP4/4P3/PP3PPP/RNBQK...     5   \n",
       "5          0  rnbqkbnr/1p2pppp/p1p5/3p4/2PP4/4P3/PP3PPP/RNBQ...     6   \n",
       "...      ...                                                ...   ...   \n",
       "68012    999  r4rk1/pp2ppbp/1np1bnp1/8/5P2/2N3P1/PPPRN1BP/R1...    26   \n",
       "68013    999  r4rk1/pp2ppbp/1np1bnp1/8/5P2/1PN3P1/P1PRN1BP/R...    27   \n",
       "68014    999  r2r2k1/pp2ppbp/1np1bnp1/8/5P2/1PN3P1/P1PRN1BP/...    28   \n",
       "68015    999  r2r2k1/pp2ppbp/1np1bnp1/8/5P2/BPN3P1/P1PRN1BP/...    29   \n",
       "68016    999  r5k1/pp2ppbp/1np1bnp1/8/5P2/BPN3P1/P1PrN1BP/R5...    30   \n",
       "\n",
       "                                           FEN_stockfish  \n",
       "1      [rnbqkbnr/ppp1pppp/8/3p4/3P4/8/PPP1PPPP/RNBQKB...  \n",
       "2      [rnbqkbnr/ppp1pppp/8/3p4/2PP4/8/PP2PPPP/RNBQKB...  \n",
       "3      [rnbqkbnr/ppp2ppp/4p3/3p4/2PP4/8/PP2PPPP/RNBQK...  \n",
       "4      [rnbqkbnr/pp2pppp/2p5/3P4/3P4/8/PP2PPPP/RNBQKB...  \n",
       "5      [rn1qkbnr/pp2pppp/2p5/3p1b2/2PP4/4P3/PP3PPP/RN...  \n",
       "...                                                  ...  \n",
       "68012  [r1b2rk1/pp2ppbp/2p2np1/8/2n2P2/2N3P1/PPPRN1BP...  \n",
       "68013  [r4rk1/pp2ppbp/1np1bnp1/8/3N1P2/2N3P1/PPPR2BP/...  \n",
       "68014  [r4rk1/pp2ppbp/1np1b1p1/3n4/5P2/1PN3P1/P1PRN1B...  \n",
       "68015  [r2R2k1/pp2ppbp/1np1bnp1/8/5P2/1PN3P1/P1P1N1BP...  \n",
       "68016  [r5k1/pp2ppbp/1np1bnp1/8/5P2/BPN3P1/P1PrN1BP/R...  \n",
       "\n",
       "[67017 rows x 4 columns]"
      ]
     },
     "execution_count": 72,
     "metadata": {},
     "output_type": "execute_result"
    }
   ],
   "source": [
    "df_data = pd.merge(df_games, df_stockfish_moves, on=['index', 'move'], how='left', suffixes=['', '_stockfish'])\n",
    "df_data = df_data.dropna()\n",
    "df_data"
   ]
  },
  {
   "cell_type": "code",
   "execution_count": 73,
   "metadata": {},
   "outputs": [],
   "source": [
    "df_data[['FEN_stockfish_1', 'FEN_stockfish_2', 'FEN_stockfish_3']] = pd.DataFrame(data=df_data['FEN_stockfish'].tolist(), index=df_data.index)"
   ]
  },
  {
   "cell_type": "code",
   "execution_count": 74,
   "metadata": {},
   "outputs": [],
   "source": [
    "df_data = df_data.drop('FEN_stockfish', axis=1)"
   ]
  },
  {
   "cell_type": "code",
   "execution_count": 75,
   "metadata": {},
   "outputs": [
    {
     "data": {
      "text/plain": [
       "'rnbqkbnr/ppp1pppp/8/3p4/3P4/8/PPP1PPPP/RNBQKBNR w KQkq - 0 2'"
      ]
     },
     "execution_count": 75,
     "metadata": {},
     "output_type": "execute_result"
    }
   ],
   "source": [
    "df_data['FEN'].iloc[0]"
   ]
  },
  {
   "cell_type": "code",
   "execution_count": 76,
   "metadata": {},
   "outputs": [
    {
     "data": {
      "text/plain": [
       "'rnbqkbnr/ppp1pppp/8/3p4/3P4/8/PPP1PPPP/RNBQKBNR w KQkq - 0 2'"
      ]
     },
     "execution_count": 76,
     "metadata": {},
     "output_type": "execute_result"
    }
   ],
   "source": [
    "df_data['FEN_stockfish_1'].iloc[0]"
   ]
  },
  {
   "cell_type": "code",
   "execution_count": 77,
   "metadata": {},
   "outputs": [
    {
     "data": {
      "text/html": [
       "<div>\n",
       "<style scoped>\n",
       "    .dataframe tbody tr th:only-of-type {\n",
       "        vertical-align: middle;\n",
       "    }\n",
       "\n",
       "    .dataframe tbody tr th {\n",
       "        vertical-align: top;\n",
       "    }\n",
       "\n",
       "    .dataframe thead th {\n",
       "        text-align: right;\n",
       "    }\n",
       "</style>\n",
       "<table border=\"1\" class=\"dataframe\">\n",
       "  <thead>\n",
       "    <tr style=\"text-align: right;\">\n",
       "      <th></th>\n",
       "      <th>index</th>\n",
       "      <th>FEN</th>\n",
       "      <th>move</th>\n",
       "      <th>FEN_stockfish_1</th>\n",
       "      <th>FEN_stockfish_2</th>\n",
       "      <th>FEN_stockfish_3</th>\n",
       "    </tr>\n",
       "  </thead>\n",
       "  <tbody>\n",
       "    <tr>\n",
       "      <th>4</th>\n",
       "      <td>0</td>\n",
       "      <td>rnbqkbnr/pp2pppp/2p5/3p4/2PP4/4P3/PP3PPP/RNBQK...</td>\n",
       "      <td>5</td>\n",
       "      <td>rnbqkbnr/pp2pppp/2p5/3P4/3P4/8/PP2PPPP/RNBQKBN...</td>\n",
       "      <td>rnbqkbnr/pp2pppp/2p5/3p4/2PP4/2N5/PP2PPPP/R1BQ...</td>\n",
       "      <td>rnbqkbnr/pp2pppp/2p5/3p4/2PP4/5N2/PP2PPPP/RNBQ...</td>\n",
       "    </tr>\n",
       "    <tr>\n",
       "      <th>5</th>\n",
       "      <td>0</td>\n",
       "      <td>rnbqkbnr/1p2pppp/p1p5/3p4/2PP4/4P3/PP3PPP/RNBQ...</td>\n",
       "      <td>6</td>\n",
       "      <td>rn1qkbnr/pp2pppp/2p5/3p1b2/2PP4/4P3/PP3PPP/RNB...</td>\n",
       "      <td>rnbqkb1r/pp2pppp/2p2n2/3p4/2PP4/4P3/PP3PPP/RNB...</td>\n",
       "      <td>rnbqkbnr/pp3ppp/2p1p3/3p4/2PP4/4P3/PP3PPP/RNBQ...</td>\n",
       "    </tr>\n",
       "    <tr>\n",
       "      <th>7</th>\n",
       "      <td>0</td>\n",
       "      <td>rnbqkbnr/1p3ppp/p1p5/3pp3/2PP4/4PN2/PP3PPP/RNB...</td>\n",
       "      <td>8</td>\n",
       "      <td>rn1qkbnr/1p2pppp/p1p5/3p1b2/2PP4/4PN2/PP3PPP/R...</td>\n",
       "      <td>rnbqkb1r/1p2pppp/p1p2n2/3p4/2PP4/4PN2/PP3PPP/R...</td>\n",
       "      <td>rnbqkbnr/1p2pp1p/p1p3p1/3p4/2PP4/4PN2/PP3PPP/R...</td>\n",
       "    </tr>\n",
       "    <tr>\n",
       "      <th>8</th>\n",
       "      <td>0</td>\n",
       "      <td>rnbqkbnr/1p3ppp/p1p5/3Pp3/3P4/4PN2/PP3PPP/RNBQ...</td>\n",
       "      <td>9</td>\n",
       "      <td>rnbqkbnr/1p3ppp/p1p5/3pP3/2P5/4PN2/PP3PPP/RNBQ...</td>\n",
       "      <td>rnbqkbnr/1p3ppp/p1p5/3pN3/2PP4/4P3/PP3PPP/RNBQ...</td>\n",
       "      <td>rnbqkbnr/1p3ppp/p1p5/3pp3/2PPP3/5N2/PP3PPP/RNB...</td>\n",
       "    </tr>\n",
       "    <tr>\n",
       "      <th>19</th>\n",
       "      <td>0</td>\n",
       "      <td>r2qk2r/1p1nbppp/p4n2/3p4/3Pp3/1QN1P3/PP3PPP/R1...</td>\n",
       "      <td>20</td>\n",
       "      <td>r3kb1r/1p1n1ppp/pq3n2/3p4/3Pp3/1QN1P3/PP3PPP/R...</td>\n",
       "      <td>r2qkb1r/1p3ppp/pn3n2/3p4/3Pp3/1QN1P3/PP3PPP/R1...</td>\n",
       "      <td>r2qkb1r/3n1ppp/p4n2/1p1p4/3Pp3/1QN1P3/PP3PPP/R...</td>\n",
       "    </tr>\n",
       "    <tr>\n",
       "      <th>...</th>\n",
       "      <td>...</td>\n",
       "      <td>...</td>\n",
       "      <td>...</td>\n",
       "      <td>...</td>\n",
       "      <td>...</td>\n",
       "      <td>...</td>\n",
       "    </tr>\n",
       "    <tr>\n",
       "      <th>68005</th>\n",
       "      <td>999</td>\n",
       "      <td>r1bq1rk1/pp2ppbp/2p2np1/4n3/5P2/2N3P1/PPP1N1BP...</td>\n",
       "      <td>19</td>\n",
       "      <td>r1bq1rk1/pp2ppbp/2p2np1/4n3/8/2N3PP/PPP1NPB1/R...</td>\n",
       "      <td>r1bq1rk1/pp2ppbp/2p2np1/4n3/5B2/2N3P1/PPP1NPBP...</td>\n",
       "      <td>r1bq1rk1/pp2ppbp/2p2np1/4n3/5N2/2N3P1/PPP2PBP/...</td>\n",
       "    </tr>\n",
       "    <tr>\n",
       "      <th>68007</th>\n",
       "      <td>999</td>\n",
       "      <td>r1bq1rk1/pp1nppbp/2p2np1/8/5P2/2N3P1/PPPQN1BP/...</td>\n",
       "      <td>21</td>\n",
       "      <td>r1bq1rk1/pp1nppbp/2p2np1/8/P4P2/2N3P1/1PP1N1BP...</td>\n",
       "      <td>r1bq1rk1/pp1nppbp/2p2np1/8/5P2/2N3PP/PPP1N1B1/...</td>\n",
       "      <td>r1bq1rk1/pp1nppbp/2p2np1/8/5P2/2N3P1/PPP1N1BP/...</td>\n",
       "    </tr>\n",
       "    <tr>\n",
       "      <th>68012</th>\n",
       "      <td>999</td>\n",
       "      <td>r4rk1/pp2ppbp/1np1bnp1/8/5P2/2N3P1/PPPRN1BP/R1...</td>\n",
       "      <td>26</td>\n",
       "      <td>r1b2rk1/pp2ppbp/2p2np1/8/2n2P2/2N3P1/PPPRN1BP/...</td>\n",
       "      <td>r1b2rk1/pp2ppbp/1np3p1/8/5Pn1/2N3P1/PPPRN1BP/R...</td>\n",
       "      <td>r1b2rk1/1p2ppbp/1np2np1/p7/5P2/2N3P1/PPPRN1BP/...</td>\n",
       "    </tr>\n",
       "    <tr>\n",
       "      <th>68013</th>\n",
       "      <td>999</td>\n",
       "      <td>r4rk1/pp2ppbp/1np1bnp1/8/5P2/1PN3P1/P1PRN1BP/R...</td>\n",
       "      <td>27</td>\n",
       "      <td>r4rk1/pp2ppbp/1np1bnp1/8/3N1P2/2N3P1/PPPR2BP/R...</td>\n",
       "      <td>r4rk1/pp2ppbp/1np1bnp1/8/5P2/2N3P1/PPP1N1BP/R1...</td>\n",
       "      <td>r4rk1/pp2ppbp/1np1bnp1/8/P4P2/2N3P1/1PPRN1BP/R...</td>\n",
       "    </tr>\n",
       "    <tr>\n",
       "      <th>68015</th>\n",
       "      <td>999</td>\n",
       "      <td>r2r2k1/pp2ppbp/1np1bnp1/8/5P2/BPN3P1/P1PRN1BP/...</td>\n",
       "      <td>29</td>\n",
       "      <td>r2R2k1/pp2ppbp/1np1bnp1/8/5P2/1PN3P1/P1P1N1BP/...</td>\n",
       "      <td>r2r2k1/pp2ppbp/1np1bnp1/8/5P2/1PN3P1/P1PRN1BP/...</td>\n",
       "      <td>r2r2k1/pp2ppbp/1np1bnp1/8/P4P2/1PN3P1/2PRN1BP/...</td>\n",
       "    </tr>\n",
       "  </tbody>\n",
       "</table>\n",
       "<p>23734 rows × 6 columns</p>\n",
       "</div>"
      ],
      "text/plain": [
       "       index                                                FEN  move  \\\n",
       "4          0  rnbqkbnr/pp2pppp/2p5/3p4/2PP4/4P3/PP3PPP/RNBQK...     5   \n",
       "5          0  rnbqkbnr/1p2pppp/p1p5/3p4/2PP4/4P3/PP3PPP/RNBQ...     6   \n",
       "7          0  rnbqkbnr/1p3ppp/p1p5/3pp3/2PP4/4PN2/PP3PPP/RNB...     8   \n",
       "8          0  rnbqkbnr/1p3ppp/p1p5/3Pp3/3P4/4PN2/PP3PPP/RNBQ...     9   \n",
       "19         0  r2qk2r/1p1nbppp/p4n2/3p4/3Pp3/1QN1P3/PP3PPP/R1...    20   \n",
       "...      ...                                                ...   ...   \n",
       "68005    999  r1bq1rk1/pp2ppbp/2p2np1/4n3/5P2/2N3P1/PPP1N1BP...    19   \n",
       "68007    999  r1bq1rk1/pp1nppbp/2p2np1/8/5P2/2N3P1/PPPQN1BP/...    21   \n",
       "68012    999  r4rk1/pp2ppbp/1np1bnp1/8/5P2/2N3P1/PPPRN1BP/R1...    26   \n",
       "68013    999  r4rk1/pp2ppbp/1np1bnp1/8/5P2/1PN3P1/P1PRN1BP/R...    27   \n",
       "68015    999  r2r2k1/pp2ppbp/1np1bnp1/8/5P2/BPN3P1/P1PRN1BP/...    29   \n",
       "\n",
       "                                         FEN_stockfish_1  \\\n",
       "4      rnbqkbnr/pp2pppp/2p5/3P4/3P4/8/PP2PPPP/RNBQKBN...   \n",
       "5      rn1qkbnr/pp2pppp/2p5/3p1b2/2PP4/4P3/PP3PPP/RNB...   \n",
       "7      rn1qkbnr/1p2pppp/p1p5/3p1b2/2PP4/4PN2/PP3PPP/R...   \n",
       "8      rnbqkbnr/1p3ppp/p1p5/3pP3/2P5/4PN2/PP3PPP/RNBQ...   \n",
       "19     r3kb1r/1p1n1ppp/pq3n2/3p4/3Pp3/1QN1P3/PP3PPP/R...   \n",
       "...                                                  ...   \n",
       "68005  r1bq1rk1/pp2ppbp/2p2np1/4n3/8/2N3PP/PPP1NPB1/R...   \n",
       "68007  r1bq1rk1/pp1nppbp/2p2np1/8/P4P2/2N3P1/1PP1N1BP...   \n",
       "68012  r1b2rk1/pp2ppbp/2p2np1/8/2n2P2/2N3P1/PPPRN1BP/...   \n",
       "68013  r4rk1/pp2ppbp/1np1bnp1/8/3N1P2/2N3P1/PPPR2BP/R...   \n",
       "68015  r2R2k1/pp2ppbp/1np1bnp1/8/5P2/1PN3P1/P1P1N1BP/...   \n",
       "\n",
       "                                         FEN_stockfish_2  \\\n",
       "4      rnbqkbnr/pp2pppp/2p5/3p4/2PP4/2N5/PP2PPPP/R1BQ...   \n",
       "5      rnbqkb1r/pp2pppp/2p2n2/3p4/2PP4/4P3/PP3PPP/RNB...   \n",
       "7      rnbqkb1r/1p2pppp/p1p2n2/3p4/2PP4/4PN2/PP3PPP/R...   \n",
       "8      rnbqkbnr/1p3ppp/p1p5/3pN3/2PP4/4P3/PP3PPP/RNBQ...   \n",
       "19     r2qkb1r/1p3ppp/pn3n2/3p4/3Pp3/1QN1P3/PP3PPP/R1...   \n",
       "...                                                  ...   \n",
       "68005  r1bq1rk1/pp2ppbp/2p2np1/4n3/5B2/2N3P1/PPP1NPBP...   \n",
       "68007  r1bq1rk1/pp1nppbp/2p2np1/8/5P2/2N3PP/PPP1N1B1/...   \n",
       "68012  r1b2rk1/pp2ppbp/1np3p1/8/5Pn1/2N3P1/PPPRN1BP/R...   \n",
       "68013  r4rk1/pp2ppbp/1np1bnp1/8/5P2/2N3P1/PPP1N1BP/R1...   \n",
       "68015  r2r2k1/pp2ppbp/1np1bnp1/8/5P2/1PN3P1/P1PRN1BP/...   \n",
       "\n",
       "                                         FEN_stockfish_3  \n",
       "4      rnbqkbnr/pp2pppp/2p5/3p4/2PP4/5N2/PP2PPPP/RNBQ...  \n",
       "5      rnbqkbnr/pp3ppp/2p1p3/3p4/2PP4/4P3/PP3PPP/RNBQ...  \n",
       "7      rnbqkbnr/1p2pp1p/p1p3p1/3p4/2PP4/4PN2/PP3PPP/R...  \n",
       "8      rnbqkbnr/1p3ppp/p1p5/3pp3/2PPP3/5N2/PP3PPP/RNB...  \n",
       "19     r2qkb1r/3n1ppp/p4n2/1p1p4/3Pp3/1QN1P3/PP3PPP/R...  \n",
       "...                                                  ...  \n",
       "68005  r1bq1rk1/pp2ppbp/2p2np1/4n3/5N2/2N3P1/PPP2PBP/...  \n",
       "68007  r1bq1rk1/pp1nppbp/2p2np1/8/5P2/2N3P1/PPP1N1BP/...  \n",
       "68012  r1b2rk1/1p2ppbp/1np2np1/p7/5P2/2N3P1/PPPRN1BP/...  \n",
       "68013  r4rk1/pp2ppbp/1np1bnp1/8/P4P2/2N3P1/1PPRN1BP/R...  \n",
       "68015  r2r2k1/pp2ppbp/1np1bnp1/8/P4P2/1PN3P1/2PRN1BP/...  \n",
       "\n",
       "[23734 rows x 6 columns]"
      ]
     },
     "execution_count": 77,
     "metadata": {},
     "output_type": "execute_result"
    }
   ],
   "source": [
    "df_data[(df_data['FEN'] != df_data['FEN_stockfish_1']) &\n",
    "        (df_data['FEN'] != df_data['FEN_stockfish_2']) &\n",
    "        (df_data['FEN'] != df_data['FEN_stockfish_3'])\n",
    "        ]"
   ]
  },
  {
   "cell_type": "code",
   "execution_count": 79,
   "metadata": {},
   "outputs": [],
   "source": [
    "df_data.to_csv('top3_stockfish_moves_for_every_fen.csv')"
   ]
  }
 ],
 "metadata": {
  "kernelspec": {
   "display_name": "chess",
   "language": "python",
   "name": "python3"
  },
  "language_info": {
   "codemirror_mode": {
    "name": "ipython",
    "version": 3
   },
   "file_extension": ".py",
   "mimetype": "text/x-python",
   "name": "python",
   "nbconvert_exporter": "python",
   "pygments_lexer": "ipython3",
   "version": "3.9.16"
  },
  "orig_nbformat": 4
 },
 "nbformat": 4,
 "nbformat_minor": 2
}
