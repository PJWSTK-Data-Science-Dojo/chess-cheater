{
 "cells": [
  {
   "cell_type": "code",
   "execution_count": 2,
   "metadata": {},
   "outputs": [],
   "source": [
    "import re\n",
    "\n",
    "with open(r'D:\\Programowanie\\Projekty\\chess_cheater_project\\cheater_PGNs\\white_cheater_PGN.txt') as f:\n",
    "    pgn = f.read()\n",
    "\n",
    "def moves_to_list(moves):\n",
    "    moves_list = []\n",
    "    for element in moves.split():\n",
    "        if re.match('[a-zA-Z]+[1-9]|O-O|O-O-O', element) is not None:\n",
    "            element = element.replace('?', '')\n",
    "            element = element.replace('!', '')\n",
    "            element = element.replace('+', '')\n",
    "\n",
    "            moves_list.append(element)\n",
    "    \n",
    "    return moves_list\n",
    "\n",
    "moves = moves_to_list(pgn)"
   ]
  },
  {
   "cell_type": "code",
   "execution_count": 3,
   "metadata": {},
   "outputs": [
    {
     "data": {
      "text/plain": [
       "113"
      ]
     },
     "execution_count": 3,
     "metadata": {},
     "output_type": "execute_result"
    }
   ],
   "source": [
    "len(moves)"
   ]
  },
  {
   "cell_type": "code",
   "execution_count": 4,
   "metadata": {},
   "outputs": [],
   "source": [
    "import chess\n",
    "import numpy as np\n",
    "\n",
    "def save_board_state_after_move(moves):\n",
    "    board = chess.Board()\n",
    "    FEN_list = []\n",
    "    try:\n",
    "        for idx, move in enumerate(moves):\n",
    "            board.push_san(move)\n",
    "            FEN_list.append(board.fen())\n",
    "        return FEN_list\n",
    "    except Exception as e:\n",
    "        print(e)\n",
    "        print(board)\n",
    "        return np.nan\n",
    "\n",
    "fens = save_board_state_after_move(moves)"
   ]
  },
  {
   "cell_type": "code",
   "execution_count": 5,
   "metadata": {},
   "outputs": [],
   "source": [
    "import pandas as pd\n",
    "import numpy as np\n",
    "\n",
    "next_fens = fens[1:]\n",
    "next_fens.append(np.nan)\n",
    "\n",
    "data = {'fens': fens, 'next_fens': next_fens}\n",
    "\n",
    "input_data = pd.DataFrame(data=data)\n",
    "input_data.dropna(inplace=True)"
   ]
  },
  {
   "cell_type": "code",
   "execution_count": 6,
   "metadata": {},
   "outputs": [],
   "source": [
    "piece_to_token   = {'r' :        1,\n",
    "                   'n' :        2,\n",
    "                   'b' :        3,\n",
    "                   'q' :        4,\n",
    "                   'k' :        5,\n",
    "                   'p' :        6,\n",
    "                   'R' :        7,\n",
    "                   'N' :        8,\n",
    "                   'B' :        9,\n",
    "                   'Q' :        10,\n",
    "                   'K' :        11,\n",
    "                   'P' :        12,\n",
    "                   'empty' :    0}\n",
    "\n",
    "def fen_to_network_input_tokenized(fen):\n",
    "    encoded_board = []\n",
    "    fen = fen.split()[0]\n",
    "    for char in fen:\n",
    "        if char in piece_to_token.keys():\n",
    "            encoded_board.append(piece_to_token[char])\n",
    "        elif char != '/':\n",
    "            for _ in range(int(char)):\n",
    "                encoded_board.append(piece_to_token['empty'])\n",
    "    return encoded_board"
   ]
  },
  {
   "cell_type": "code",
   "execution_count": 7,
   "metadata": {},
   "outputs": [],
   "source": [
    "input_data['FEN_tokenized'] = input_data['fens'].apply(fen_to_network_input_tokenized)\n",
    "input_data['next_FEN_tokenized'] = input_data['next_fens'].apply(fen_to_network_input_tokenized)\n"
   ]
  },
  {
   "cell_type": "code",
   "execution_count": 8,
   "metadata": {},
   "outputs": [],
   "source": [
    "input_data['input'] = input_data['FEN_tokenized'] + input_data['next_FEN_tokenized']"
   ]
  },
  {
   "cell_type": "code",
   "execution_count": 9,
   "metadata": {},
   "outputs": [],
   "source": [
    "import torch\n",
    "\n",
    "X = torch.tensor(input_data['input'],dtype=torch.int)"
   ]
  },
  {
   "cell_type": "code",
   "execution_count": 10,
   "metadata": {},
   "outputs": [
    {
     "data": {
      "text/plain": [
       "<All keys matched successfully>"
      ]
     },
     "execution_count": 10,
     "metadata": {},
     "output_type": "execute_result"
    }
   ],
   "source": [
    "from model_lstm import CheaterClassifier\n",
    "\n",
    "model = CheaterClassifier()\n",
    "\n",
    "model.load_state_dict(torch.load('best_model.pt'))"
   ]
  },
  {
   "cell_type": "code",
   "execution_count": 11,
   "metadata": {},
   "outputs": [
    {
     "data": {
      "text/plain": [
       "torch.Size([112, 128])"
      ]
     },
     "execution_count": 11,
     "metadata": {},
     "output_type": "execute_result"
    }
   ],
   "source": [
    "X.shape"
   ]
  },
  {
   "cell_type": "code",
   "execution_count": 12,
   "metadata": {},
   "outputs": [],
   "source": [
    "model.eval()\n",
    "outputs = model(X)"
   ]
  },
  {
   "cell_type": "code",
   "execution_count": 13,
   "metadata": {},
   "outputs": [
    {
     "name": "stdout",
     "output_type": "stream",
     "text": [
      "Mean proba white:  tensor([0.1209], grad_fn=<DivBackward0>)\n",
      "Mean proba black:  tensor([0.1188], grad_fn=<DivBackward0>)\n",
      "white 9\n",
      "black 9\n",
      "##########white############\n",
      "(52, tensor([0.5319], grad_fn=<UnbindBackward0>))\n",
      "(54, tensor([0.5600], grad_fn=<UnbindBackward0>))\n",
      "(56, tensor([0.5760], grad_fn=<UnbindBackward0>))\n",
      "(58, tensor([0.5823], grad_fn=<UnbindBackward0>))\n",
      "(60, tensor([0.5840], grad_fn=<UnbindBackward0>))\n",
      "(62, tensor([0.5737], grad_fn=<UnbindBackward0>))\n",
      "(64, tensor([0.5574], grad_fn=<UnbindBackward0>))\n",
      "(66, tensor([0.5353], grad_fn=<UnbindBackward0>))\n",
      "(68, tensor([0.5078], grad_fn=<UnbindBackward0>))\n",
      "##########black############\n",
      "(51, tensor([0.5104], grad_fn=<UnbindBackward0>))\n",
      "(53, tensor([0.5482], grad_fn=<UnbindBackward0>))\n",
      "(55, tensor([0.5700], grad_fn=<UnbindBackward0>))\n",
      "(57, tensor([0.5795], grad_fn=<UnbindBackward0>))\n",
      "(59, tensor([0.5833], grad_fn=<UnbindBackward0>))\n",
      "(61, tensor([0.5813], grad_fn=<UnbindBackward0>))\n",
      "(63, tensor([0.5665], grad_fn=<UnbindBackward0>))\n",
      "(65, tensor([0.5472], grad_fn=<UnbindBackward0>))\n",
      "(67, tensor([0.5213], grad_fn=<UnbindBackward0>))\n"
     ]
    }
   ],
   "source": [
    "counter_white=0\n",
    "counter_black=0\n",
    "mean_proba_white = 0\n",
    "mean_proba_black = 0\n",
    "white = []\n",
    "black = []\n",
    "for idx, output in enumerate(outputs):\n",
    "    if idx % 2 == 0:\n",
    "        mean_proba_white += output\n",
    "    else:\n",
    "        mean_proba_black += output\n",
    "    if output >= .5:\n",
    "        if idx % 2 == 0:\n",
    "            white.append((idx, output))\n",
    "            counter_white+=1\n",
    "        else:\n",
    "            black.append((idx, output))\n",
    "            counter_black+=1\n",
    "\n",
    "mean_proba_white = mean_proba_white/len(outputs)\n",
    "mean_proba_black = mean_proba_black/len(outputs)\n",
    "print('Mean proba white: ', mean_proba_white)\n",
    "\n",
    "print('Mean proba black: ', mean_proba_black)\n",
    "print('white', counter_white)\n",
    "print('black', counter_black)\n",
    "print('##########white############')\n",
    "for w in white:\n",
    "    print(w)\n",
    "print('##########black############')\n",
    "for b in black:\n",
    "    print(b)"
   ]
  }
 ],
 "metadata": {
  "kernelspec": {
   "display_name": "chess",
   "language": "python",
   "name": "python3"
  },
  "language_info": {
   "codemirror_mode": {
    "name": "ipython",
    "version": 3
   },
   "file_extension": ".py",
   "mimetype": "text/x-python",
   "name": "python",
   "nbconvert_exporter": "python",
   "pygments_lexer": "ipython3",
   "version": "3.9.16"
  },
  "orig_nbformat": 4
 },
 "nbformat": 4,
 "nbformat_minor": 2
}
